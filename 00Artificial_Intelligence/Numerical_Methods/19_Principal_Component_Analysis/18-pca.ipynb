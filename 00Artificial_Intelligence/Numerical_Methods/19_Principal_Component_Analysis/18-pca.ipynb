{
 "cells": [
  {
   "cell_type": "code",
   "execution_count": 1,
   "metadata": {},
   "outputs": [],
   "source": [
    "import pandas as pd\n",
    "import numpy as np\n",
    "import numpy.linalg as la\n",
    "\n",
    "from sklearn.decomposition import PCA\n",
    "from sklearn.preprocessing import scale\n",
    "\n",
    "import matplotlib.pyplot as plt\n",
    "from matplotlib import cm as cm\n",
    "import seaborn as sns\n",
    "sns.set(font_scale=2)\n",
    "plt.style.use('seaborn-whitegrid')\n",
    "%matplotlib inline\n",
    "\n",
    "from io import StringIO"
   ]
  },
  {
   "cell_type": "markdown",
   "metadata": {},
   "source": [
    "# Principal Component Analysis"
   ]
  },
  {
   "cell_type": "markdown",
   "metadata": {},
   "source": [
    "In machine learning and data science, Principal Component Analysis (PCA) is a method of analysing datasets to obtain an orthogonal basis that best captures most of the variance of our data.  It is often used to remove extra features or dimensions in large-dimensional datasets, because in a similar vein to SVD, PCA will give us a set of axes with both large contributions and small contributions to our data."
   ]
  },
  {
   "cell_type": "markdown",
   "metadata": {},
   "source": [
    "## Example 1: Breast cancer dataset"
   ]
  },
  {
   "cell_type": "markdown",
   "metadata": {},
   "source": [
    "Importing the data set for characteristics of tumor cells (this is the same dataset used for the MP)"
   ]
  },
  {
   "cell_type": "code",
   "execution_count": 2,
   "metadata": {},
   "outputs": [],
   "source": [
    "params = [\"radius\", \"texture\", \"perimeter\", \"area\",\n",
    "          \"smoothness\", \"compactness\", \"concavity\",\n",
    "          \"concave points\", \"symmetry\", \"fractal dimension\"];\n",
    "stats = [\"(mean)\", \"(stderr)\", \"(worst)\"]\n",
    "labels = [\"patient ID\", \"Malignant/Benign\"]\n",
    "\n",
    "for p in params:\n",
    "    for s in stats:\n",
    "        labels.append(p + \" \" + s)\n",
    "\n",
    "tumor_data = pd.io.parsers.read_csv(\"breast-cancer-train.dat\",header=None,names=labels)"
   ]
  },
  {
   "cell_type": "code",
   "execution_count": 3,
   "metadata": {},
   "outputs": [
    {
     "data": {
      "text/html": [
       "<div>\n",
       "<style scoped>\n",
       "    .dataframe tbody tr th:only-of-type {\n",
       "        vertical-align: middle;\n",
       "    }\n",
       "\n",
       "    .dataframe tbody tr th {\n",
       "        vertical-align: top;\n",
       "    }\n",
       "\n",
       "    .dataframe thead th {\n",
       "        text-align: right;\n",
       "    }\n",
       "</style>\n",
       "<table border=\"1\" class=\"dataframe\">\n",
       "  <thead>\n",
       "    <tr style=\"text-align: right;\">\n",
       "      <th></th>\n",
       "      <th>patient ID</th>\n",
       "      <th>Malignant/Benign</th>\n",
       "      <th>radius (mean)</th>\n",
       "      <th>radius (stderr)</th>\n",
       "      <th>radius (worst)</th>\n",
       "      <th>texture (mean)</th>\n",
       "      <th>texture (stderr)</th>\n",
       "      <th>texture (worst)</th>\n",
       "      <th>perimeter (mean)</th>\n",
       "      <th>perimeter (stderr)</th>\n",
       "      <th>...</th>\n",
       "      <th>concavity (worst)</th>\n",
       "      <th>concave points (mean)</th>\n",
       "      <th>concave points (stderr)</th>\n",
       "      <th>concave points (worst)</th>\n",
       "      <th>symmetry (mean)</th>\n",
       "      <th>symmetry (stderr)</th>\n",
       "      <th>symmetry (worst)</th>\n",
       "      <th>fractal dimension (mean)</th>\n",
       "      <th>fractal dimension (stderr)</th>\n",
       "      <th>fractal dimension (worst)</th>\n",
       "    </tr>\n",
       "  </thead>\n",
       "  <tbody>\n",
       "    <tr>\n",
       "      <th>0</th>\n",
       "      <td>842302</td>\n",
       "      <td>M</td>\n",
       "      <td>17.99</td>\n",
       "      <td>10.38</td>\n",
       "      <td>122.80</td>\n",
       "      <td>1001.0</td>\n",
       "      <td>0.11840</td>\n",
       "      <td>0.27760</td>\n",
       "      <td>0.30010</td>\n",
       "      <td>0.14710</td>\n",
       "      <td>...</td>\n",
       "      <td>25.38</td>\n",
       "      <td>17.33</td>\n",
       "      <td>184.60</td>\n",
       "      <td>2019.0</td>\n",
       "      <td>0.16220</td>\n",
       "      <td>0.66560</td>\n",
       "      <td>0.71190</td>\n",
       "      <td>0.26540</td>\n",
       "      <td>0.4601</td>\n",
       "      <td>0.11890</td>\n",
       "    </tr>\n",
       "    <tr>\n",
       "      <th>1</th>\n",
       "      <td>842517</td>\n",
       "      <td>M</td>\n",
       "      <td>20.57</td>\n",
       "      <td>17.77</td>\n",
       "      <td>132.90</td>\n",
       "      <td>1326.0</td>\n",
       "      <td>0.08474</td>\n",
       "      <td>0.07864</td>\n",
       "      <td>0.08690</td>\n",
       "      <td>0.07017</td>\n",
       "      <td>...</td>\n",
       "      <td>24.99</td>\n",
       "      <td>23.41</td>\n",
       "      <td>158.80</td>\n",
       "      <td>1956.0</td>\n",
       "      <td>0.12380</td>\n",
       "      <td>0.18660</td>\n",
       "      <td>0.24160</td>\n",
       "      <td>0.18600</td>\n",
       "      <td>0.2750</td>\n",
       "      <td>0.08902</td>\n",
       "    </tr>\n",
       "    <tr>\n",
       "      <th>2</th>\n",
       "      <td>84300903</td>\n",
       "      <td>M</td>\n",
       "      <td>19.69</td>\n",
       "      <td>21.25</td>\n",
       "      <td>130.00</td>\n",
       "      <td>1203.0</td>\n",
       "      <td>0.10960</td>\n",
       "      <td>0.15990</td>\n",
       "      <td>0.19740</td>\n",
       "      <td>0.12790</td>\n",
       "      <td>...</td>\n",
       "      <td>23.57</td>\n",
       "      <td>25.53</td>\n",
       "      <td>152.50</td>\n",
       "      <td>1709.0</td>\n",
       "      <td>0.14440</td>\n",
       "      <td>0.42450</td>\n",
       "      <td>0.45040</td>\n",
       "      <td>0.24300</td>\n",
       "      <td>0.3613</td>\n",
       "      <td>0.08758</td>\n",
       "    </tr>\n",
       "    <tr>\n",
       "      <th>3</th>\n",
       "      <td>84348301</td>\n",
       "      <td>M</td>\n",
       "      <td>11.42</td>\n",
       "      <td>20.38</td>\n",
       "      <td>77.58</td>\n",
       "      <td>386.1</td>\n",
       "      <td>0.14250</td>\n",
       "      <td>0.28390</td>\n",
       "      <td>0.24140</td>\n",
       "      <td>0.10520</td>\n",
       "      <td>...</td>\n",
       "      <td>14.91</td>\n",
       "      <td>26.50</td>\n",
       "      <td>98.87</td>\n",
       "      <td>567.7</td>\n",
       "      <td>0.20980</td>\n",
       "      <td>0.86630</td>\n",
       "      <td>0.68690</td>\n",
       "      <td>0.25750</td>\n",
       "      <td>0.6638</td>\n",
       "      <td>0.17300</td>\n",
       "    </tr>\n",
       "    <tr>\n",
       "      <th>4</th>\n",
       "      <td>84358402</td>\n",
       "      <td>M</td>\n",
       "      <td>20.29</td>\n",
       "      <td>14.34</td>\n",
       "      <td>135.10</td>\n",
       "      <td>1297.0</td>\n",
       "      <td>0.10030</td>\n",
       "      <td>0.13280</td>\n",
       "      <td>0.19800</td>\n",
       "      <td>0.10430</td>\n",
       "      <td>...</td>\n",
       "      <td>22.54</td>\n",
       "      <td>16.67</td>\n",
       "      <td>152.20</td>\n",
       "      <td>1575.0</td>\n",
       "      <td>0.13740</td>\n",
       "      <td>0.20500</td>\n",
       "      <td>0.40000</td>\n",
       "      <td>0.16250</td>\n",
       "      <td>0.2364</td>\n",
       "      <td>0.07678</td>\n",
       "    </tr>\n",
       "    <tr>\n",
       "      <th>...</th>\n",
       "      <td>...</td>\n",
       "      <td>...</td>\n",
       "      <td>...</td>\n",
       "      <td>...</td>\n",
       "      <td>...</td>\n",
       "      <td>...</td>\n",
       "      <td>...</td>\n",
       "      <td>...</td>\n",
       "      <td>...</td>\n",
       "      <td>...</td>\n",
       "      <td>...</td>\n",
       "      <td>...</td>\n",
       "      <td>...</td>\n",
       "      <td>...</td>\n",
       "      <td>...</td>\n",
       "      <td>...</td>\n",
       "      <td>...</td>\n",
       "      <td>...</td>\n",
       "      <td>...</td>\n",
       "      <td>...</td>\n",
       "      <td>...</td>\n",
       "    </tr>\n",
       "    <tr>\n",
       "      <th>295</th>\n",
       "      <td>891923</td>\n",
       "      <td>B</td>\n",
       "      <td>13.77</td>\n",
       "      <td>13.27</td>\n",
       "      <td>88.06</td>\n",
       "      <td>582.7</td>\n",
       "      <td>0.09198</td>\n",
       "      <td>0.06221</td>\n",
       "      <td>0.01063</td>\n",
       "      <td>0.01917</td>\n",
       "      <td>...</td>\n",
       "      <td>14.67</td>\n",
       "      <td>16.93</td>\n",
       "      <td>94.17</td>\n",
       "      <td>661.1</td>\n",
       "      <td>0.11700</td>\n",
       "      <td>0.10720</td>\n",
       "      <td>0.03732</td>\n",
       "      <td>0.05802</td>\n",
       "      <td>0.2823</td>\n",
       "      <td>0.06794</td>\n",
       "    </tr>\n",
       "    <tr>\n",
       "      <th>296</th>\n",
       "      <td>891936</td>\n",
       "      <td>B</td>\n",
       "      <td>10.91</td>\n",
       "      <td>12.35</td>\n",
       "      <td>69.14</td>\n",
       "      <td>363.7</td>\n",
       "      <td>0.08518</td>\n",
       "      <td>0.04721</td>\n",
       "      <td>0.01236</td>\n",
       "      <td>0.01369</td>\n",
       "      <td>...</td>\n",
       "      <td>11.37</td>\n",
       "      <td>14.82</td>\n",
       "      <td>72.42</td>\n",
       "      <td>392.2</td>\n",
       "      <td>0.09312</td>\n",
       "      <td>0.07506</td>\n",
       "      <td>0.02884</td>\n",
       "      <td>0.03194</td>\n",
       "      <td>0.2143</td>\n",
       "      <td>0.06643</td>\n",
       "    </tr>\n",
       "    <tr>\n",
       "      <th>297</th>\n",
       "      <td>892189</td>\n",
       "      <td>M</td>\n",
       "      <td>11.76</td>\n",
       "      <td>18.14</td>\n",
       "      <td>75.00</td>\n",
       "      <td>431.1</td>\n",
       "      <td>0.09968</td>\n",
       "      <td>0.05914</td>\n",
       "      <td>0.02685</td>\n",
       "      <td>0.03515</td>\n",
       "      <td>...</td>\n",
       "      <td>13.36</td>\n",
       "      <td>23.39</td>\n",
       "      <td>85.10</td>\n",
       "      <td>553.6</td>\n",
       "      <td>0.11370</td>\n",
       "      <td>0.07974</td>\n",
       "      <td>0.06120</td>\n",
       "      <td>0.07160</td>\n",
       "      <td>0.1978</td>\n",
       "      <td>0.06915</td>\n",
       "    </tr>\n",
       "    <tr>\n",
       "      <th>298</th>\n",
       "      <td>892214</td>\n",
       "      <td>B</td>\n",
       "      <td>14.26</td>\n",
       "      <td>18.17</td>\n",
       "      <td>91.22</td>\n",
       "      <td>633.1</td>\n",
       "      <td>0.06576</td>\n",
       "      <td>0.05220</td>\n",
       "      <td>0.02475</td>\n",
       "      <td>0.01374</td>\n",
       "      <td>...</td>\n",
       "      <td>16.22</td>\n",
       "      <td>25.26</td>\n",
       "      <td>105.80</td>\n",
       "      <td>819.7</td>\n",
       "      <td>0.09445</td>\n",
       "      <td>0.21670</td>\n",
       "      <td>0.15650</td>\n",
       "      <td>0.07530</td>\n",
       "      <td>0.2636</td>\n",
       "      <td>0.07676</td>\n",
       "    </tr>\n",
       "    <tr>\n",
       "      <th>299</th>\n",
       "      <td>892399</td>\n",
       "      <td>B</td>\n",
       "      <td>10.51</td>\n",
       "      <td>23.09</td>\n",
       "      <td>66.85</td>\n",
       "      <td>334.2</td>\n",
       "      <td>0.10150</td>\n",
       "      <td>0.06797</td>\n",
       "      <td>0.02495</td>\n",
       "      <td>0.01875</td>\n",
       "      <td>...</td>\n",
       "      <td>10.93</td>\n",
       "      <td>24.22</td>\n",
       "      <td>70.10</td>\n",
       "      <td>362.7</td>\n",
       "      <td>0.11430</td>\n",
       "      <td>0.08614</td>\n",
       "      <td>0.04158</td>\n",
       "      <td>0.03125</td>\n",
       "      <td>0.2227</td>\n",
       "      <td>0.06777</td>\n",
       "    </tr>\n",
       "  </tbody>\n",
       "</table>\n",
       "<p>300 rows × 32 columns</p>\n",
       "</div>"
      ],
      "text/plain": [
       "     patient ID Malignant/Benign  radius (mean)  radius (stderr)  \\\n",
       "0        842302                M          17.99            10.38   \n",
       "1        842517                M          20.57            17.77   \n",
       "2      84300903                M          19.69            21.25   \n",
       "3      84348301                M          11.42            20.38   \n",
       "4      84358402                M          20.29            14.34   \n",
       "..          ...              ...            ...              ...   \n",
       "295      891923                B          13.77            13.27   \n",
       "296      891936                B          10.91            12.35   \n",
       "297      892189                M          11.76            18.14   \n",
       "298      892214                B          14.26            18.17   \n",
       "299      892399                B          10.51            23.09   \n",
       "\n",
       "     radius (worst)  texture (mean)  texture (stderr)  texture (worst)  \\\n",
       "0            122.80          1001.0           0.11840          0.27760   \n",
       "1            132.90          1326.0           0.08474          0.07864   \n",
       "2            130.00          1203.0           0.10960          0.15990   \n",
       "3             77.58           386.1           0.14250          0.28390   \n",
       "4            135.10          1297.0           0.10030          0.13280   \n",
       "..              ...             ...               ...              ...   \n",
       "295           88.06           582.7           0.09198          0.06221   \n",
       "296           69.14           363.7           0.08518          0.04721   \n",
       "297           75.00           431.1           0.09968          0.05914   \n",
       "298           91.22           633.1           0.06576          0.05220   \n",
       "299           66.85           334.2           0.10150          0.06797   \n",
       "\n",
       "     perimeter (mean)  perimeter (stderr)  ...  concavity (worst)  \\\n",
       "0             0.30010             0.14710  ...              25.38   \n",
       "1             0.08690             0.07017  ...              24.99   \n",
       "2             0.19740             0.12790  ...              23.57   \n",
       "3             0.24140             0.10520  ...              14.91   \n",
       "4             0.19800             0.10430  ...              22.54   \n",
       "..                ...                 ...  ...                ...   \n",
       "295           0.01063             0.01917  ...              14.67   \n",
       "296           0.01236             0.01369  ...              11.37   \n",
       "297           0.02685             0.03515  ...              13.36   \n",
       "298           0.02475             0.01374  ...              16.22   \n",
       "299           0.02495             0.01875  ...              10.93   \n",
       "\n",
       "     concave points (mean)  concave points (stderr)  concave points (worst)  \\\n",
       "0                    17.33                   184.60                  2019.0   \n",
       "1                    23.41                   158.80                  1956.0   \n",
       "2                    25.53                   152.50                  1709.0   \n",
       "3                    26.50                    98.87                   567.7   \n",
       "4                    16.67                   152.20                  1575.0   \n",
       "..                     ...                      ...                     ...   \n",
       "295                  16.93                    94.17                   661.1   \n",
       "296                  14.82                    72.42                   392.2   \n",
       "297                  23.39                    85.10                   553.6   \n",
       "298                  25.26                   105.80                   819.7   \n",
       "299                  24.22                    70.10                   362.7   \n",
       "\n",
       "     symmetry (mean)  symmetry (stderr)  symmetry (worst)  \\\n",
       "0            0.16220            0.66560           0.71190   \n",
       "1            0.12380            0.18660           0.24160   \n",
       "2            0.14440            0.42450           0.45040   \n",
       "3            0.20980            0.86630           0.68690   \n",
       "4            0.13740            0.20500           0.40000   \n",
       "..               ...                ...               ...   \n",
       "295          0.11700            0.10720           0.03732   \n",
       "296          0.09312            0.07506           0.02884   \n",
       "297          0.11370            0.07974           0.06120   \n",
       "298          0.09445            0.21670           0.15650   \n",
       "299          0.11430            0.08614           0.04158   \n",
       "\n",
       "     fractal dimension (mean)  fractal dimension (stderr)  \\\n",
       "0                     0.26540                      0.4601   \n",
       "1                     0.18600                      0.2750   \n",
       "2                     0.24300                      0.3613   \n",
       "3                     0.25750                      0.6638   \n",
       "4                     0.16250                      0.2364   \n",
       "..                        ...                         ...   \n",
       "295                   0.05802                      0.2823   \n",
       "296                   0.03194                      0.2143   \n",
       "297                   0.07160                      0.1978   \n",
       "298                   0.07530                      0.2636   \n",
       "299                   0.03125                      0.2227   \n",
       "\n",
       "     fractal dimension (worst)  \n",
       "0                      0.11890  \n",
       "1                      0.08902  \n",
       "2                      0.08758  \n",
       "3                      0.17300  \n",
       "4                      0.07678  \n",
       "..                         ...  \n",
       "295                    0.06794  \n",
       "296                    0.06643  \n",
       "297                    0.06915  \n",
       "298                    0.07676  \n",
       "299                    0.06777  \n",
       "\n",
       "[300 rows x 32 columns]"
      ]
     },
     "execution_count": 3,
     "metadata": {},
     "output_type": "execute_result"
    }
   ],
   "source": [
    "tumor_data"
   ]
  },
  {
   "cell_type": "markdown",
   "metadata": {},
   "source": [
    "### 1) Creating a smaller subset of points:\n",
    "Selecting a subset of the data for better visualization and understanding of the method. We will start with six patients and only two of the features:"
   ]
  },
  {
   "cell_type": "code",
   "execution_count": 4,
   "metadata": {},
   "outputs": [
    {
     "data": {
      "text/html": [
       "<div>\n",
       "<style scoped>\n",
       "    .dataframe tbody tr th:only-of-type {\n",
       "        vertical-align: middle;\n",
       "    }\n",
       "\n",
       "    .dataframe tbody tr th {\n",
       "        vertical-align: top;\n",
       "    }\n",
       "\n",
       "    .dataframe thead th {\n",
       "        text-align: right;\n",
       "    }\n",
       "</style>\n",
       "<table border=\"1\" class=\"dataframe\">\n",
       "  <thead>\n",
       "    <tr style=\"text-align: right;\">\n",
       "      <th></th>\n",
       "      <th>Malignant/Benign</th>\n",
       "      <th>smoothness (mean)</th>\n",
       "      <th>radius (mean)</th>\n",
       "    </tr>\n",
       "  </thead>\n",
       "  <tbody>\n",
       "    <tr>\n",
       "      <th>272</th>\n",
       "      <td>M</td>\n",
       "      <td>8.867</td>\n",
       "      <td>21.750</td>\n",
       "    </tr>\n",
       "    <tr>\n",
       "      <th>273</th>\n",
       "      <td>B</td>\n",
       "      <td>1.750</td>\n",
       "      <td>9.742</td>\n",
       "    </tr>\n",
       "    <tr>\n",
       "      <th>274</th>\n",
       "      <td>M</td>\n",
       "      <td>2.765</td>\n",
       "      <td>17.930</td>\n",
       "    </tr>\n",
       "    <tr>\n",
       "      <th>275</th>\n",
       "      <td>B</td>\n",
       "      <td>4.021</td>\n",
       "      <td>11.890</td>\n",
       "    </tr>\n",
       "    <tr>\n",
       "      <th>276</th>\n",
       "      <td>B</td>\n",
       "      <td>1.565</td>\n",
       "      <td>11.330</td>\n",
       "    </tr>\n",
       "    <tr>\n",
       "      <th>277</th>\n",
       "      <td>M</td>\n",
       "      <td>2.363</td>\n",
       "      <td>18.810</td>\n",
       "    </tr>\n",
       "  </tbody>\n",
       "</table>\n",
       "</div>"
      ],
      "text/plain": [
       "    Malignant/Benign  smoothness (mean)  radius (mean)\n",
       "272                M              8.867         21.750\n",
       "273                B              1.750          9.742\n",
       "274                M              2.765         17.930\n",
       "275                B              4.021         11.890\n",
       "276                B              1.565         11.330\n",
       "277                M              2.363         18.810"
      ]
     },
     "execution_count": 4,
     "metadata": {},
     "output_type": "execute_result"
    }
   ],
   "source": [
    "new_data = pd.DataFrame(tumor_data[[\"Malignant/Benign\", 'smoothness (mean)', 'radius (mean)']][272:278])\n",
    "new_data"
   ]
  },
  {
   "cell_type": "code",
   "execution_count": 5,
   "metadata": {},
   "outputs": [
    {
     "name": "stderr",
     "output_type": "stream",
     "text": [
      "C:\\Users\\LOTLOUISCHO\\anaconda3\\lib\\site-packages\\seaborn\\_decorators.py:36: FutureWarning: Pass the following variables as keyword args: x, y, data. From version 0.12, the only valid positional argument will be `data`, and passing other arguments without an explicit keyword will result in an error or misinterpretation.\n",
      "  warnings.warn(\n"
     ]
    },
    {
     "data": {
      "image/png": "[encoded data removed]",
      "text/plain": [
       "<Figure size 779.35x576 with 1 Axes>"
      ]
     },
     "metadata": {
      "needs_background": "light"
     },
     "output_type": "display_data"
    }
   ],
   "source": [
    "g1 = sns.lmplot('smoothness (mean)', 'radius (mean)', new_data,  hue=\"Malignant/Benign\", scatter_kws={\"s\": 180}, fit_reg=False, height=8)\n",
    "ax = g1.axes[0,0]\n",
    "ax.axis('equal')\n",
    "\n",
    "# This code snippet is plotting the labels\n",
    "for i in range(272,278):\n",
    "    x = new_data['smoothness (mean)'][i] + 0.1\n",
    "    y = new_data['radius (mean)'][i] + 0.1\n",
    "    ax.text(x,y,str(i),horizontalalignment='left',size='medium', color='black', weight='semibold', fontsize=16)"
   ]
  },
  {
   "cell_type": "markdown",
   "metadata": {},
   "source": [
    "### 2) Shift the dataset to center the data:\n",
    "The first step is to determine the \"center\" of the dataset (the mean value of each feature):"
   ]
  },
  {
   "cell_type": "code",
   "execution_count": 6,
   "metadata": {},
   "outputs": [
    {
     "name": "stdout",
     "output_type": "stream",
     "text": [
      "3.555166666666667 15.241999999999999\n",
      "2.7458182326342486 4.8805671801543715\n"
     ]
    }
   ],
   "source": [
    "mean_smooth = new_data['smoothness (mean)'].mean()\n",
    "mean_radius = new_data['radius (mean)'].mean()\n",
    "\n",
    "print(mean_smooth,mean_radius)\n",
    "\n",
    "print(new_data['smoothness (mean)'].std(),new_data['radius (mean)'].std())"
   ]
  },
  {
   "cell_type": "code",
   "execution_count": 7,
   "metadata": {},
   "outputs": [
    {
     "name": "stderr",
     "output_type": "stream",
     "text": [
      "C:\\Users\\LOTLOUISCHO\\anaconda3\\lib\\site-packages\\seaborn\\_decorators.py:36: FutureWarning: Pass the following variables as keyword args: x, y, data. From version 0.12, the only valid positional argument will be `data`, and passing other arguments without an explicit keyword will result in an error or misinterpretation.\n",
      "  warnings.warn(\n"
     ]
    },
    {
     "data": {
      "text/plain": [
       "<matplotlib.lines.Line2D at 0x1a8fd9a4160>"
      ]
     },
     "execution_count": 7,
     "metadata": {},
     "output_type": "execute_result"
    },
    {
     "data": {
      "image/png": "[encoded data removed]",
      "text/plain": [
       "<Figure size 779.35x576 with 1 Axes>"
      ]
     },
     "metadata": {
      "needs_background": "light"
     },
     "output_type": "display_data"
    }
   ],
   "source": [
    "g1 = sns.lmplot('smoothness (mean)', 'radius (mean)', new_data,  hue=\"Malignant/Benign\", scatter_kws={\"s\": 180}, fit_reg=False, height=8)\n",
    "ax = g1.axes[0,0]\n",
    "plt.xlim(-2,24)\n",
    "plt.ylim(-2,24)\n",
    "for i in range(272,278):\n",
    "    x = new_data['smoothness (mean)'][i] + 0.1\n",
    "    y = new_data['radius (mean)'][i] + 0.1\n",
    "    ax.text(x,y,str(i),horizontalalignment='left',size='medium', color='black', weight='semibold', fontsize=16)\n",
    "        \n",
    "ax.scatter(mean_smooth,mean_radius,  s=180, c='r', marker=(5, 2))\n",
    "ax.axhline(y=0, color='k')\n",
    "ax.axvline(x=0, color='k')\n",
    "ax.axhline(y=mean_radius, color='m',linestyle='--')\n",
    "ax.axvline(x=mean_smooth, color='m',linestyle='--')"
   ]
  },
  {
   "cell_type": "markdown",
   "metadata": {},
   "source": [
    "And then we \"center\" the dataset, such that each feature has zero mean"
   ]
  },
  {
   "cell_type": "code",
   "execution_count": 8,
   "metadata": {},
   "outputs": [
    {
     "name": "stdout",
     "output_type": "stream",
     "text": [
      "-1.4802973661668753e-16\n",
      "8.881784197001252e-16\n"
     ]
    }
   ],
   "source": [
    "new_data['smoothness (zero mean)'] = new_data['smoothness (mean)'] - new_data['smoothness (mean)'].mean()\n",
    "new_data['radius (zero mean)'] = new_data['radius (mean)'] - new_data['radius (mean)'].mean()\n",
    "\n",
    "print(new_data['smoothness (zero mean)'].mean())\n",
    "print(new_data['radius (zero mean)'].mean())"
   ]
  },
  {
   "cell_type": "code",
   "execution_count": 9,
   "metadata": {},
   "outputs": [
    {
     "data": {
      "text/plain": [
       "272    5.311833\n",
       "273   -1.805167\n",
       "274   -0.790167\n",
       "275    0.465833\n",
       "276   -1.990167\n",
       "277   -1.192167\n",
       "Name: smoothness (zero mean), dtype: float64"
      ]
     },
     "execution_count": 9,
     "metadata": {},
     "output_type": "execute_result"
    }
   ],
   "source": [
    "new_data['smoothness (zero mean)']"
   ]
  },
  {
   "cell_type": "markdown",
   "metadata": {},
   "source": [
    "Plot the centered data:"
   ]
  },
  {
   "cell_type": "code",
   "execution_count": 10,
   "metadata": {},
   "outputs": [
    {
     "name": "stderr",
     "output_type": "stream",
     "text": [
      "C:\\Users\\LOTLOUISCHO\\anaconda3\\lib\\site-packages\\seaborn\\_decorators.py:36: FutureWarning: Pass the following variables as keyword args: x, y, data. From version 0.12, the only valid positional argument will be `data`, and passing other arguments without an explicit keyword will result in an error or misinterpretation.\n",
      "  warnings.warn(\n"
     ]
    },
    {
     "data": {
      "text/plain": [
       "<matplotlib.lines.Line2D at 0x1a8fd7b7df0>"
      ]
     },
     "execution_count": 10,
     "metadata": {},
     "output_type": "execute_result"
    },
    {
     "data": {
      "image/png": "[encoded data removed]",
      "text/plain": [
       "<Figure size 779.35x576 with 1 Axes>"
      ]
     },
     "metadata": {
      "needs_background": "light"
     },
     "output_type": "display_data"
    }
   ],
   "source": [
    "g1 = sns.lmplot('smoothness (zero mean)', 'radius (zero mean)', new_data, hue=\"Malignant/Benign\", scatter_kws={\"s\": 180}, fit_reg=False, height=8)\n",
    "ax = g1.axes[0,0]\n",
    "ax.axis('equal')\n",
    "\n",
    "for i in range(272,278):\n",
    "    x = new_data['smoothness (zero mean)'][i] + 0.1\n",
    "    y = new_data['radius (zero mean)'][i] + 0.1\n",
    "    ax.text(x,y,str(i),horizontalalignment='left',size='medium', color='black', weight='semibold', fontsize=16)\n",
    "\n",
    "ax.scatter(0,0,  s=200, c='r', marker=(5, 2))\n",
    "\n",
    "ax.axhline(y=0, color='k')\n",
    "ax.axvline(x=0, color='k')"
   ]
  },
  {
   "cell_type": "markdown",
   "metadata": {},
   "source": [
    "### 3) Get covariance matrix"
   ]
  },
  {
   "cell_type": "markdown",
   "metadata": {},
   "source": [
    "PCA wants to find the directions of maximum variance. For that, we will need to first define the covariance matrix:"
   ]
  },
  {
   "cell_type": "markdown",
   "metadata": {},
   "source": [
    "$ M $: total number of data points\n",
    "\n",
    "$ N $ : number of features\n",
    "\n",
    "$Cov({\\bf A}) = \\frac{1}{M-1} {\\bf A}^T {\\bf A} $"
   ]
  },
  {
   "cell_type": "code",
   "execution_count": 11,
   "metadata": {},
   "outputs": [
    {
     "data": {
      "text/html": [
       "<div>\n",
       "<style scoped>\n",
       "    .dataframe tbody tr th:only-of-type {\n",
       "        vertical-align: middle;\n",
       "    }\n",
       "\n",
       "    .dataframe tbody tr th {\n",
       "        vertical-align: top;\n",
       "    }\n",
       "\n",
       "    .dataframe thead th {\n",
       "        text-align: right;\n",
       "    }\n",
       "</style>\n",
       "<table border=\"1\" class=\"dataframe\">\n",
       "  <thead>\n",
       "    <tr style=\"text-align: right;\">\n",
       "      <th></th>\n",
       "      <th>smoothness (zero mean)</th>\n",
       "      <th>radius (zero mean)</th>\n",
       "    </tr>\n",
       "  </thead>\n",
       "  <tbody>\n",
       "    <tr>\n",
       "      <th>272</th>\n",
       "      <td>5.311833</td>\n",
       "      <td>6.508</td>\n",
       "    </tr>\n",
       "    <tr>\n",
       "      <th>273</th>\n",
       "      <td>-1.805167</td>\n",
       "      <td>-5.500</td>\n",
       "    </tr>\n",
       "    <tr>\n",
       "      <th>274</th>\n",
       "      <td>-0.790167</td>\n",
       "      <td>2.688</td>\n",
       "    </tr>\n",
       "    <tr>\n",
       "      <th>275</th>\n",
       "      <td>0.465833</td>\n",
       "      <td>-3.352</td>\n",
       "    </tr>\n",
       "    <tr>\n",
       "      <th>276</th>\n",
       "      <td>-1.990167</td>\n",
       "      <td>-3.912</td>\n",
       "    </tr>\n",
       "    <tr>\n",
       "      <th>277</th>\n",
       "      <td>-1.192167</td>\n",
       "      <td>3.568</td>\n",
       "    </tr>\n",
       "  </tbody>\n",
       "</table>\n",
       "</div>"
      ],
      "text/plain": [
       "     smoothness (zero mean)  radius (zero mean)\n",
       "272                5.311833               6.508\n",
       "273               -1.805167              -5.500\n",
       "274               -0.790167               2.688\n",
       "275                0.465833              -3.352\n",
       "276               -1.990167              -3.912\n",
       "277               -1.192167               3.568"
      ]
     },
     "execution_count": 11,
     "metadata": {},
     "output_type": "execute_result"
    }
   ],
   "source": [
    "# centered data\n",
    "A = new_data[['smoothness (zero mean)', 'radius (zero mean)']]\n",
    "A"
   ]
  },
  {
   "cell_type": "code",
   "execution_count": 12,
   "metadata": {},
   "outputs": [],
   "source": [
    "M,N = A.shape"
   ]
  },
  {
   "cell_type": "code",
   "execution_count": 13,
   "metadata": {},
   "outputs": [
    {
     "name": "stdout",
     "output_type": "stream",
     "text": [
      "                        smoothness (zero mean)  radius (zero mean)\n",
      "smoothness (zero mean)                7.539518            8.868854\n",
      "radius (zero mean)                    8.868854           23.819936\n"
     ]
    }
   ],
   "source": [
    "# Using the definition\n",
    "cov_matrix = (1/(M-1))*A.T@A\n",
    "print(cov_matrix)"
   ]
  },
  {
   "cell_type": "code",
   "execution_count": 14,
   "metadata": {},
   "outputs": [
    {
     "data": {
      "text/html": [
       "<div>\n",
       "<style scoped>\n",
       "    .dataframe tbody tr th:only-of-type {\n",
       "        vertical-align: middle;\n",
       "    }\n",
       "\n",
       "    .dataframe tbody tr th {\n",
       "        vertical-align: top;\n",
       "    }\n",
       "\n",
       "    .dataframe thead th {\n",
       "        text-align: right;\n",
       "    }\n",
       "</style>\n",
       "<table border=\"1\" class=\"dataframe\">\n",
       "  <thead>\n",
       "    <tr style=\"text-align: right;\">\n",
       "      <th></th>\n",
       "      <th>smoothness (zero mean)</th>\n",
       "      <th>radius (zero mean)</th>\n",
       "    </tr>\n",
       "  </thead>\n",
       "  <tbody>\n",
       "    <tr>\n",
       "      <th>smoothness (zero mean)</th>\n",
       "      <td>7.539518</td>\n",
       "      <td>8.868854</td>\n",
       "    </tr>\n",
       "    <tr>\n",
       "      <th>radius (zero mean)</th>\n",
       "      <td>8.868854</td>\n",
       "      <td>23.819936</td>\n",
       "    </tr>\n",
       "  </tbody>\n",
       "</table>\n",
       "</div>"
      ],
      "text/plain": [
       "                        smoothness (zero mean)  radius (zero mean)\n",
       "smoothness (zero mean)                7.539518            8.868854\n",
       "radius (zero mean)                    8.868854           23.819936"
      ]
     },
     "execution_count": 14,
     "metadata": {},
     "output_type": "execute_result"
    }
   ],
   "source": [
    "# Or using python built-in function\n",
    "A.cov()"
   ]
  },
  {
   "cell_type": "markdown",
   "metadata": {},
   "source": [
    "The variances are on the diagonal (co-variance of a variable with itself), and the sum of the 2 values is the overall variability:"
   ]
  },
  {
   "cell_type": "code",
   "execution_count": 15,
   "metadata": {},
   "outputs": [
    {
     "data": {
      "text/plain": [
       "31.359453766666668"
      ]
     },
     "execution_count": 15,
     "metadata": {},
     "output_type": "execute_result"
    }
   ],
   "source": [
    "np.diag(cov_matrix).sum()"
   ]
  },
  {
   "cell_type": "code",
   "execution_count": 16,
   "metadata": {},
   "outputs": [
    {
     "data": {
      "text/plain": [
       "0.24042226505885786"
      ]
     },
     "execution_count": 16,
     "metadata": {},
     "output_type": "execute_result"
    }
   ],
   "source": [
    "7.53951/31.35945"
   ]
  },
  {
   "cell_type": "markdown",
   "metadata": {},
   "source": [
    "PCA replaces the original variables with new variables, called principal components, which are orthogonal (i.e. they have zero covariations) and have variances in decreasing order. To accomplish this, we will use the diagonalization of the covariance matrix:"
   ]
  },
  {
   "cell_type": "code",
   "execution_count": 17,
   "metadata": {},
   "outputs": [
    {
     "name": "stdout",
     "output_type": "stream",
     "text": [
      "[ 3.6414725  27.71798127]\n",
      "[[-0.91547669 -0.40237101]\n",
      " [ 0.40237101 -0.91547669]]\n"
     ]
    }
   ],
   "source": [
    "l,u = la.eig(cov_matrix)\n",
    "print(l)\n",
    "print(u)"
   ]
  },
  {
   "cell_type": "markdown",
   "metadata": {},
   "source": [
    "$$cov({\\bf A}) = \\begin{bmatrix} -0.40237101 & -0.91547669 \\\\ -0.91547669 &  0.40237101 \\end{bmatrix} \\begin{bmatrix} 27.71798127 & 0 \\\\ 0 &  3.6414725  \\end{bmatrix} \\begin{bmatrix} -0.40237101 & -0.91547669 \\\\ -0.91547669 &  0.40237101 \\end{bmatrix}^T$$"
   ]
  },
  {
   "cell_type": "code",
   "execution_count": 18,
   "metadata": {},
   "outputs": [
    {
     "data": {
      "text/plain": [
       "0.8838795874814619"
      ]
     },
     "execution_count": 18,
     "metadata": {},
     "output_type": "execute_result"
    }
   ],
   "source": [
    "27.717981/31.3594537"
   ]
  },
  {
   "cell_type": "markdown",
   "metadata": {},
   "source": [
    "Note that the diagonal sum is still 31.359, which says that the two components account for all the variability.\n",
    "\n",
    "\n",
    "PCA finds, in the data space, the dimension (direction) with the largest variance out of the overall variance.\n",
    "\n",
    "\n",
    "In this example, if we reduce the dimension space to include only one variable, the first principal component 27.718, accounts for 88% of the variability"
   ]
  },
  {
   "cell_type": "markdown",
   "metadata": {},
   "source": [
    "Hence, the largest eigenvalue of the covariance matrix corresponds to the largest variance of the dataset, and the associated eigenvector is the direction of maximum variance. For our example:"
   ]
  },
  {
   "cell_type": "code",
   "execution_count": 19,
   "metadata": {},
   "outputs": [
    {
     "name": "stderr",
     "output_type": "stream",
     "text": [
      "C:\\Users\\LOTLOUISCHO\\anaconda3\\lib\\site-packages\\seaborn\\_decorators.py:36: FutureWarning: Pass the following variables as keyword args: x, y, data. From version 0.12, the only valid positional argument will be `data`, and passing other arguments without an explicit keyword will result in an error or misinterpretation.\n",
      "  warnings.warn(\n"
     ]
    },
    {
     "data": {
      "text/plain": [
       "<matplotlib.patches.FancyArrow at 0x1a8fed18970>"
      ]
     },
     "execution_count": 19,
     "metadata": {},
     "output_type": "execute_result"
    },
    {
     "data": {
      "image/png": "[encoded data removed]",
      "text/plain": [
       "<Figure size 779.35x576 with 1 Axes>"
      ]
     },
     "metadata": {
      "needs_background": "light"
     },
     "output_type": "display_data"
    }
   ],
   "source": [
    "g1 = sns.lmplot('smoothness (zero mean)', 'radius (zero mean)', new_data, hue=\"Malignant/Benign\", scatter_kws={\"s\": 180}, fit_reg=False, height=8)\n",
    "ax = g1.axes[0,0]\n",
    "ax.axis('equal')\n",
    "\n",
    "for i in range(272,278):\n",
    "    x = new_data['smoothness (zero mean)'][i] + 0.1\n",
    "    y = new_data['radius (zero mean)'][i] + 0.1\n",
    "    ax.text(x,y,str(i),horizontalalignment='left',size='medium', color='black', weight='semibold', fontsize=16)\n",
    "\n",
    "ax.scatter(0,0,  s=200, c='r', marker=(5, 2))\n",
    "\n",
    "ax.axhline(y=0, color='k')\n",
    "ax.axvline(x=0, color='k')\n",
    "\n",
    "s = 3\n",
    "\n",
    "J = 0 # choice of principal direction\n",
    "x = u[0,J]\n",
    "y = u[1,J]\n",
    "ax.arrow(0,0,s*x,s*y,color='black',head_width=0.1, head_length=0.1, fc='r', ec='r', lw=5)\n",
    "\n",
    "J = 1 # choice of principal direction\n",
    "x = u[0,J]\n",
    "y = u[1,J]\n",
    "ax.arrow(0,0,s*x,s*y,color='black',head_width=0.1, head_length=0.1, fc='m', ec='m', lw=5)"
   ]
  },
  {
   "cell_type": "markdown",
   "metadata": {},
   "source": [
    "### 4) Singular value decomposition"
   ]
  },
  {
   "cell_type": "markdown",
   "metadata": {},
   "source": [
    "We know that the eigenvectors of ${\\bf A}^T{\\bf A}$ are the right singular vectors of ${\\bf A}$, or the columns of ${\\bf V}$ from the SVD decomposition of ${\\bf A}$ (or the rows of V transpose). \n",
    "\n",
    "Hence, instead of having to calculate the covariance matrix and solve an eigenvalue problem, we will instead get the reduced form of the SVD!"
   ]
  },
  {
   "cell_type": "code",
   "execution_count": 20,
   "metadata": {},
   "outputs": [
    {
     "data": {
      "text/html": [
       "<div>\n",
       "<style scoped>\n",
       "    .dataframe tbody tr th:only-of-type {\n",
       "        vertical-align: middle;\n",
       "    }\n",
       "\n",
       "    .dataframe tbody tr th {\n",
       "        vertical-align: top;\n",
       "    }\n",
       "\n",
       "    .dataframe thead th {\n",
       "        text-align: right;\n",
       "    }\n",
       "</style>\n",
       "<table border=\"1\" class=\"dataframe\">\n",
       "  <thead>\n",
       "    <tr style=\"text-align: right;\">\n",
       "      <th></th>\n",
       "      <th>smoothness (zero mean)</th>\n",
       "      <th>radius (zero mean)</th>\n",
       "    </tr>\n",
       "  </thead>\n",
       "  <tbody>\n",
       "    <tr>\n",
       "      <th>272</th>\n",
       "      <td>5.311833</td>\n",
       "      <td>6.508</td>\n",
       "    </tr>\n",
       "    <tr>\n",
       "      <th>273</th>\n",
       "      <td>-1.805167</td>\n",
       "      <td>-5.500</td>\n",
       "    </tr>\n",
       "    <tr>\n",
       "      <th>274</th>\n",
       "      <td>-0.790167</td>\n",
       "      <td>2.688</td>\n",
       "    </tr>\n",
       "    <tr>\n",
       "      <th>275</th>\n",
       "      <td>0.465833</td>\n",
       "      <td>-3.352</td>\n",
       "    </tr>\n",
       "    <tr>\n",
       "      <th>276</th>\n",
       "      <td>-1.990167</td>\n",
       "      <td>-3.912</td>\n",
       "    </tr>\n",
       "    <tr>\n",
       "      <th>277</th>\n",
       "      <td>-1.192167</td>\n",
       "      <td>3.568</td>\n",
       "    </tr>\n",
       "  </tbody>\n",
       "</table>\n",
       "</div>"
      ],
      "text/plain": [
       "     smoothness (zero mean)  radius (zero mean)\n",
       "272                5.311833               6.508\n",
       "273               -1.805167              -5.500\n",
       "274               -0.790167               2.688\n",
       "275                0.465833              -3.352\n",
       "276               -1.990167              -3.912\n",
       "277               -1.192167               3.568"
      ]
     },
     "execution_count": 20,
     "metadata": {},
     "output_type": "execute_result"
    }
   ],
   "source": [
    "A"
   ]
  },
  {
   "cell_type": "code",
   "execution_count": 21,
   "metadata": {},
   "outputs": [
    {
     "name": "stdout",
     "output_type": "stream",
     "text": [
      "[138.58990634  18.20736249]\n"
     ]
    }
   ],
   "source": [
    "U, S, Vt = np.linalg.svd(A, full_matrices=False)\n",
    "\n",
    "# variances = eig(covariance) = singular values squared\n",
    "variances = S**2\n",
    "\n",
    "print(variances)\n",
    "\n",
    "# principal directions\n",
    "pc1_vec = Vt[0,:]\n",
    "pc2_vec = Vt[1,:]"
   ]
  },
  {
   "cell_type": "markdown",
   "metadata": {},
   "source": [
    "Note that we don't need to worry about the constant value from the covariance matrix that we are disregarding. The variance values change, but their proportionality remains:"
   ]
  },
  {
   "cell_type": "code",
   "execution_count": 22,
   "metadata": {},
   "outputs": [
    {
     "data": {
      "text/plain": [
       "0.8838795941635329"
      ]
     },
     "execution_count": 22,
     "metadata": {},
     "output_type": "execute_result"
    }
   ],
   "source": [
    "variances[0]/variances.sum()"
   ]
  },
  {
   "cell_type": "markdown",
   "metadata": {},
   "source": [
    "### 5) Plotting the principal directions using the singular right vectors"
   ]
  },
  {
   "cell_type": "code",
   "execution_count": 23,
   "metadata": {},
   "outputs": [
    {
     "name": "stderr",
     "output_type": "stream",
     "text": [
      "C:\\Users\\LOTLOUISCHO\\anaconda3\\lib\\site-packages\\seaborn\\_decorators.py:36: FutureWarning: Pass the following variables as keyword args: x, y, data. From version 0.12, the only valid positional argument will be `data`, and passing other arguments without an explicit keyword will result in an error or misinterpretation.\n",
      "  warnings.warn(\n"
     ]
    },
    {
     "data": {
      "text/plain": [
       "<matplotlib.patches.FancyArrow at 0x1a8fd7bbca0>"
      ]
     },
     "execution_count": 23,
     "metadata": {},
     "output_type": "execute_result"
    },
    {
     "data": {
      "image/png": "[encoded data removed]",
      "text/plain": [
       "<Figure size 779.35x576 with 1 Axes>"
      ]
     },
     "metadata": {
      "needs_background": "light"
     },
     "output_type": "display_data"
    }
   ],
   "source": [
    "g1 = sns.lmplot('smoothness (zero mean)', 'radius (zero mean)', new_data, hue=\"Malignant/Benign\", scatter_kws={\"s\": 180}, fit_reg=False, height=8)\n",
    "ax = g1.axes[0,0]\n",
    "\n",
    "for i in range(272,278):\n",
    "    x = new_data['smoothness (zero mean)'][i] + 0.1\n",
    "    y = new_data['radius (zero mean)'][i] + 0.1\n",
    "    ax.text(x,y,str(i),horizontalalignment='left',size='medium', color='black', weight='semibold', fontsize=16)\n",
    "\n",
    "ax.scatter(0,0,  s=200, c='r', marker=(5, 2))\n",
    "ax.axis('equal')\n",
    "\n",
    "ax.axhline(y=0, color='k')\n",
    "ax.axvline(x=0, color='k')\n",
    "\n",
    "s = 3\n",
    "\n",
    "x = pc1_vec[0]\n",
    "y = pc1_vec[1]\n",
    "ax.arrow(0,0,s*x,s*y,color='black',head_width=0.1, head_length=0.1, fc='r', ec='r', lw=5)\n",
    "\n",
    "x = pc2_vec[0]\n",
    "y = pc2_vec[1]\n",
    "ax.arrow(0,0,s*x,s*y,color='black',head_width=0.1, head_length=0.1, fc='m', ec='m', lw=5)\n"
   ]
  },
  {
   "cell_type": "markdown",
   "metadata": {},
   "source": [
    "### 6) Cumulative explained variance"
   ]
  },
  {
   "cell_type": "code",
   "execution_count": 24,
   "metadata": {},
   "outputs": [
    {
     "data": {
      "text/plain": [
       "array([138.58990634,  18.20736249])"
      ]
     },
     "execution_count": 24,
     "metadata": {},
     "output_type": "execute_result"
    }
   ],
   "source": [
    "variances"
   ]
  },
  {
   "cell_type": "code",
   "execution_count": 25,
   "metadata": {},
   "outputs": [
    {
     "name": "stdout",
     "output_type": "stream",
     "text": [
      "[0.40237101 0.91547669]\n",
      "[ 0.91547669 -0.40237101]\n"
     ]
    }
   ],
   "source": [
    "print(pc1_vec)\n",
    "print(pc2_vec)"
   ]
  },
  {
   "cell_type": "markdown",
   "metadata": {},
   "source": [
    "In this example, the largest variance is 138.6 and the direction of this principal component is given by the vector `pc1_vec`.\n",
    "\n",
    "The second largest variance is 18.2 and the direction of this principal component is given by the vector `pc2_vec`.\n",
    "\n",
    "In a general problem, we would have many principal components. How can we easily visualize these components and decide how many we will keep in our reduced feature space? "
   ]
  },
  {
   "cell_type": "code",
   "execution_count": 26,
   "metadata": {},
   "outputs": [],
   "source": [
    "tot = sum(variances)\n",
    "var_exp = [(i / tot)*100 for i in variances]\n",
    "cum_var_exp = np.cumsum(var_exp)\n",
    "\n",
    "plt.bar(range(len(var_exp)),var_exp, align='center', label='individual explained variance')\n",
    "plt.step(range(len(var_exp)), cum_var_exp, 'r', where='mid', label='cumulative explained variance')\n",
    "plt.ylabel('Explained variance ratio')\n",
    "plt.xlabel('Principal components')\n"
   ]
  },
  {
   "cell_type": "code",
   "execution_count": 27,
   "metadata": {},
   "outputs": [],
   "source": [
    "Xstar=(A@Vt.T).values\n",
    "new_data['pc1'] = Xstar[:,0]  \n",
    "new_data['pc2'] = Xstar[:,1]  "
   ]
  },
  {
   "cell_type": "code",
   "execution_count": 28,
   "metadata": {},
   "outputs": [],
   "source": [
    "g1 = sns.lmplot('pc1', 'pc2', new_data, hue=\"Malignant/Benign\", fit_reg=False, height=8, scatter_kws={\"s\": 180})\n",
    "ax = g1.axes[0,0]\n",
    "ax.axhline(y=0, color='k')\n",
    "ax.axvline(x=0, color='k')\n",
    "ax.axis('equal')\n",
    "\n",
    "\n",
    "for i in range(272,278):\n",
    "    x = new_data['pc1'][i] + 0.1\n",
    "    y = new_data['pc2'][i] + 0.1\n",
    "    ax.text(x,y,str(i),horizontalalignment='left',size='medium', color='black', weight='semibold', fontsize=16)\n"
   ]
  },
  {
   "cell_type": "markdown",
   "metadata": {},
   "source": [
    "### 7) Complete dataset"
   ]
  },
  {
   "cell_type": "markdown",
   "metadata": {},
   "source": [
    "But since we have only two features here, PCA is not really helping! Let's go back to original example:"
   ]
  },
  {
   "cell_type": "code",
   "execution_count": 29,
   "metadata": {},
   "outputs": [],
   "source": [
    "tumor_data.head()"
   ]
  },
  {
   "cell_type": "code",
   "execution_count": 30,
   "metadata": {},
   "outputs": [],
   "source": [
    "A_large = tumor_data.iloc[:,2:].values\n",
    "\n",
    "type(A_large)"
   ]
  },
  {
   "cell_type": "code",
   "execution_count": 31,
   "metadata": {},
   "outputs": [],
   "source": [
    "A_large.mean()"
   ]
  },
  {
   "cell_type": "markdown",
   "metadata": {},
   "source": [
    "#### Center the mean"
   ]
  },
  {
   "cell_type": "code",
   "execution_count": 32,
   "metadata": {},
   "outputs": [],
   "source": [
    "A_large.std(axis=0)"
   ]
  },
  {
   "cell_type": "code",
   "execution_count": 33,
   "metadata": {},
   "outputs": [],
   "source": [
    "# X = (A_large - A_large.mean(axis=0))\n",
    "# print(X.mean(axis=0))\n",
    "\n",
    "X = (A_large - A_large.mean(axis=0))/A_large.std(axis=0)\n",
    "print(X.std(axis=0))"
   ]
  },
  {
   "cell_type": "code",
   "execution_count": 34,
   "metadata": {},
   "outputs": [],
   "source": [
    "u,s,vt = la.svd(X,full_matrices=False)\n",
    "\n",
    "variances = s**2\n",
    "\n",
    "tot = sum(variances)\n",
    "var_exp = [(i / tot)*100 for i in variances]\n",
    "cum_var_exp = np.cumsum(var_exp)\n",
    "\n",
    "plt.bar(range(len(var_exp)),var_exp, align='center', label='individual explained variance')\n",
    "plt.step(range(len(var_exp)), cum_var_exp, 'r', where='mid', label='cumulative explained variance')\n",
    "plt.ylabel('Explained variance ratio')\n",
    "plt.xlabel('Principal components')"
   ]
  },
  {
   "cell_type": "code",
   "execution_count": 35,
   "metadata": {},
   "outputs": [],
   "source": [
    "cum_var_exp"
   ]
  },
  {
   "cell_type": "markdown",
   "metadata": {},
   "source": [
    "#### Get the most important principal directions, and transform the original dataset"
   ]
  },
  {
   "cell_type": "code",
   "execution_count": 36,
   "metadata": {},
   "outputs": [],
   "source": [
    "Vstar = vt[:3,:].T"
   ]
  },
  {
   "cell_type": "code",
   "execution_count": 37,
   "metadata": {},
   "outputs": [],
   "source": [
    "Xstar=(X@Vstar) # change of basis\n",
    "\n",
    "Xstar.shape"
   ]
  },
  {
   "cell_type": "code",
   "execution_count": 38,
   "metadata": {},
   "outputs": [],
   "source": [
    "tumor_data_new = tumor_data.copy()\n",
    "\n",
    "tumor_data_new['pc1'] = Xstar[:,0]  \n",
    "tumor_data_new['pc2'] = Xstar[:,1]  \n",
    "tumor_data_new['pc3'] = Xstar[:,2]  "
   ]
  },
  {
   "cell_type": "code",
   "execution_count": 39,
   "metadata": {},
   "outputs": [],
   "source": [
    "g1 = sns.lmplot('pc1', 'pc2', tumor_data_new, hue=\"Malignant/Benign\", fit_reg=False, height=8, scatter_kws={\"s\": 180})\n",
    "ax = g1.axes[0,0]\n",
    "ax.axhline(y=0, color='k')\n",
    "ax.axvline(x=0, color='k')\n",
    "ax.axis('equal')\n"
   ]
  },
  {
   "cell_type": "code",
   "execution_count": 40,
   "metadata": {},
   "outputs": [],
   "source": [
    "from mpl_toolkits.mplot3d import Axes3D"
   ]
  },
  {
   "cell_type": "code",
   "execution_count": 41,
   "metadata": {},
   "outputs": [],
   "source": [
    "threedee = plt.figure().gca(projection='3d')\n",
    "threedee.scatter(tumor_data_new['pc1'], tumor_data_new['pc2'], tumor_data_new['pc3'],c = tumor_data_new[\"Malignant/Benign\"])"
   ]
  },
  {
   "cell_type": "markdown",
   "metadata": {},
   "source": [
    "#### Plot the weight for each feature in the first principal component:"
   ]
  },
  {
   "cell_type": "code",
   "execution_count": 42,
   "metadata": {},
   "outputs": [],
   "source": [
    "feature_names = tumor_data_new.columns[2:32]"
   ]
  },
  {
   "cell_type": "code",
   "execution_count": 43,
   "metadata": {},
   "outputs": [],
   "source": [
    "V = vt.T\n",
    "\n"
   ]
  },
  {
   "cell_type": "code",
   "execution_count": 44,
   "metadata": {},
   "outputs": [],
   "source": [
    "plt.figure(figsize=(14,6))\n",
    "plt.bar(feature_names,V[:,0])\n",
    "plt.xticks(rotation=90);\n",
    "plt.title('importance of each attribute in ${\\\\bf p}_1$');"
   ]
  },
  {
   "cell_type": "markdown",
   "metadata": {},
   "source": [
    "## Example 2: Food consumption in UK (using sklearn)"
   ]
  },
  {
   "cell_type": "markdown",
   "metadata": {},
   "source": [
    "Example from:\n",
    "http://setosa.io/ev/principal-component-analysis/"
   ]
  },
  {
   "cell_type": "code",
   "execution_count": 45,
   "metadata": {},
   "outputs": [],
   "source": [
    "data = pd.io.parsers.read_csv(\"UK_foods.csv\")\n",
    "data"
   ]
  },
  {
   "cell_type": "markdown",
   "metadata": {},
   "source": [
    "<img src=\"Picture1.png\" width=\"500\"/>"
   ]
  },
  {
   "cell_type": "code",
   "execution_count": 46,
   "metadata": {},
   "outputs": [],
   "source": [
    "headers = data['Unnamed: 0'].values.tolist()\n",
    "print(headers)\n",
    "\n",
    "new_data = data.drop(['Unnamed: 0'], axis=1)\n",
    "new_data.head()\n",
    "\n",
    "regions = new_data.columns.values.tolist()\n",
    "print(regions)"
   ]
  },
  {
   "cell_type": "code",
   "execution_count": 47,
   "metadata": {},
   "outputs": [],
   "source": [
    "food = pd.DataFrame(new_data.values.T,columns=headers)\n",
    "food['region'] = regions\n",
    "food"
   ]
  },
  {
   "cell_type": "code",
   "execution_count": 48,
   "metadata": {},
   "outputs": [],
   "source": [
    "food.std()"
   ]
  },
  {
   "cell_type": "markdown",
   "metadata": {},
   "source": [
    "### This is when we want to try PCA!"
   ]
  },
  {
   "cell_type": "code",
   "execution_count": 49,
   "metadata": {},
   "outputs": [],
   "source": [
    "#Performing PCA without scaling the data (to match the results from the website)\n",
    "#X = pd.DataFrame(food[headers], columns=headers)\n",
    "# In general, PCA scales the variables to zero-mean (use line below to scale)\n",
    "X = pd.DataFrame(scale(food[headers]), columns=headers)"
   ]
  },
  {
   "cell_type": "code",
   "execution_count": 50,
   "metadata": {},
   "outputs": [],
   "source": [
    "X.head()"
   ]
  },
  {
   "cell_type": "code",
   "execution_count": 51,
   "metadata": {},
   "outputs": [],
   "source": [
    "pca = PCA().fit(X)\n",
    "pca_samples = pca.transform(X)"
   ]
  },
  {
   "cell_type": "code",
   "execution_count": 52,
   "metadata": {},
   "outputs": [],
   "source": [
    "var_exp = pca.explained_variance_ratio_\n",
    "plt.bar(range(len(var_exp)),var_exp, align='center', label='individual explained variance');\n",
    "plt.ylabel('Explained variance ratio');\n",
    "plt.xlabel('Principal components');"
   ]
  },
  {
   "cell_type": "code",
   "execution_count": 53,
   "metadata": {},
   "outputs": [],
   "source": [
    "components = pd.DataFrame(pca.components_, columns = headers) "
   ]
  },
  {
   "cell_type": "code",
   "execution_count": 54,
   "metadata": {},
   "outputs": [],
   "source": [
    "plt.figure()\n",
    "plt.bar(headers,components.values[0])\n",
    "plt.xticks(rotation=90)\n",
    "plt.title('influence of original variables(food) upon pc1')\n",
    "plt.figure()\n",
    "plt.bar(headers,components.values[1])\n",
    "plt.xticks(rotation=90)\n",
    "plt.title('influence of original variables(food) upon pc2')"
   ]
  },
  {
   "cell_type": "code",
   "execution_count": 55,
   "metadata": {},
   "outputs": [],
   "source": [
    "Xstar = pd.DataFrame(pca_samples,columns=['pc1','pc2','pc3','pc4'])\n",
    "Xstar['region'] = regions\n",
    "Xstar"
   ]
  },
  {
   "cell_type": "code",
   "execution_count": 56,
   "metadata": {},
   "outputs": [],
   "source": [
    "sns.stripplot(x=\"pc1\",y=\"region\", data=Xstar, jitter=0.05, linewidth=1)"
   ]
  },
  {
   "cell_type": "code",
   "execution_count": 57,
   "metadata": {},
   "outputs": [],
   "source": [
    "ax = plt.figure()\n",
    "ax = sns.lmplot('pc1', 'pc2',Xstar,hue='region', fit_reg=False)\n",
    "plt.axis('equal')\n",
    "plt.xlabel('pc1')\n",
    "plt.ylabel('pc2')"
   ]
  },
  {
   "cell_type": "code",
   "execution_count": null,
   "metadata": {},
   "outputs": [],
   "source": []
  },
  {
   "cell_type": "code",
   "execution_count": null,
   "metadata": {},
   "outputs": [],
   "source": []
  }
 ],
 "metadata": {
  "kernelspec": {
   "display_name": "Python 3",
   "language": "python",
   "name": "python3"
  },
  "language_info": {
   "codemirror_mode": {
    "name": "ipython",
    "version": 3
   },
   "file_extension": ".py",
   "mimetype": "text/x-python",
   "name": "python",
   "nbconvert_exporter": "python",
   "pygments_lexer": "ipython3",
   "version": "3.8.8"
  }
 },
 "nbformat": 4,
 "nbformat_minor": 2
}
