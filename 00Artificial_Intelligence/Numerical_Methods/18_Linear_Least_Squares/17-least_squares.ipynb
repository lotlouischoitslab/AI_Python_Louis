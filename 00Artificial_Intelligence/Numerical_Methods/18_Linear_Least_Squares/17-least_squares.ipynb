{
 "cells": [
  {
   "cell_type": "code",
   "execution_count": 3,
   "metadata": {},
   "outputs": [],
   "source": [
    "import numpy as np\n",
    "import numpy.linalg as la\n",
    "import scipy.linalg as sla\n",
    "import matplotlib.pyplot as plt\n",
    "%matplotlib inline\n",
    "import random\n",
    "\n",
    "import pandas as pd\n",
    "from scipy import stats"
   ]
  },
  {
   "cell_type": "markdown",
   "metadata": {},
   "source": [
    "# A) Data Fitting with Least Squares: simple examples"
   ]
  },
  {
   "cell_type": "markdown",
   "metadata": {},
   "source": [
    "### 1) Fit with a line"
   ]
  },
  {
   "cell_type": "markdown",
   "metadata": {},
   "source": [
    "Suppose we want to fit the points below using a line:"
   ]
  },
  {
   "cell_type": "code",
   "execution_count": 4,
   "metadata": {},
   "outputs": [
    {
     "data": {
      "image/png": "[encoded data removed]",
      "text/plain": [
       "<Figure size 432x288 with 1 Axes>"
      ]
     },
     "metadata": {
      "needs_background": "light"
     },
     "output_type": "display_data"
    }
   ],
   "source": [
    "n = 10\n",
    "t = np.linspace(-1, 1, n)\n",
    "y = 4*t  + np.random.randn(n)  + 2\n",
    "\n",
    "plt.plot(t,y,'o')\n",
    "plt.grid()"
   ]
  },
  {
   "cell_type": "markdown",
   "metadata": {},
   "source": [
    "We want to use a fit function with the form:\n",
    "\n",
    "$$ y = x_0 + x_1 t $$"
   ]
  },
  {
   "cell_type": "markdown",
   "metadata": {},
   "source": [
    "What's the system of equations for $x_0$ and $x_1$? We will solve the least squares problem by solving the Normal Equations $$ A^T A x = A^T b$$"
   ]
  },
  {
   "cell_type": "markdown",
   "metadata": {},
   "source": [
    "Write the model matrix:"
   ]
  },
  {
   "cell_type": "code",
   "execution_count": 5,
   "metadata": {},
   "outputs": [],
   "source": [
    "m = len(t)\n",
    "n = 2"
   ]
  },
  {
   "cell_type": "code",
   "execution_count": 6,
   "metadata": {},
   "outputs": [],
   "source": [
    "A = np.ones((m,n))\n",
    "A[:,1] = t"
   ]
  },
  {
   "cell_type": "markdown",
   "metadata": {},
   "source": [
    "Build the arrays needed to solve the normal equations"
   ]
  },
  {
   "cell_type": "code",
   "execution_count": 7,
   "metadata": {},
   "outputs": [],
   "source": [
    "AtA = A.T@A\n",
    "Atb = A.T@y"
   ]
  },
  {
   "cell_type": "markdown",
   "metadata": {},
   "source": [
    "Solve the linear system of equations:"
   ]
  },
  {
   "cell_type": "code",
   "execution_count": 8,
   "metadata": {},
   "outputs": [],
   "source": [
    "x = la.solve(AtA,Atb)"
   ]
  },
  {
   "cell_type": "code",
   "execution_count": 9,
   "metadata": {},
   "outputs": [
    {
     "data": {
      "text/plain": [
       "array([1.96264192, 3.52017654])"
      ]
     },
     "execution_count": 9,
     "metadata": {},
     "output_type": "execute_result"
    }
   ],
   "source": [
    "x"
   ]
  },
  {
   "cell_type": "markdown",
   "metadata": {},
   "source": [
    "Plot the fit:"
   ]
  },
  {
   "cell_type": "code",
   "execution_count": 10,
   "metadata": {},
   "outputs": [
    {
     "data": {
      "image/png": "[encoded data removed]",
      "text/plain": [
       "<Figure size 432x288 with 1 Axes>"
      ]
     },
     "metadata": {
      "needs_background": "light"
     },
     "output_type": "display_data"
    }
   ],
   "source": [
    "plt.plot(t, y, 'o')\n",
    "plt.plot(t,  x[1] * t + x[0])\n",
    "plt.grid()"
   ]
  },
  {
   "cell_type": "markdown",
   "metadata": {},
   "source": [
    "### 2) Fit with a quadratic curve"
   ]
  },
  {
   "cell_type": "markdown",
   "metadata": {},
   "source": [
    "What if the set of points looks like this?"
   ]
  },
  {
   "cell_type": "code",
   "execution_count": 11,
   "metadata": {},
   "outputs": [
    {
     "data": {
      "image/png": "[encoded data removed]",
      "text/plain": [
       "<Figure size 432x288 with 1 Axes>"
      ]
     },
     "metadata": {
      "needs_background": "light"
     },
     "output_type": "display_data"
    }
   ],
   "source": [
    "n = 50\n",
    "t = np.linspace(-1, 1, n)\n",
    "y = t ** 2 + np.random.randn(n) * 0.05 + 5\n",
    "\n",
    "plt.plot(t, y, 'o')\n",
    "plt.grid()"
   ]
  },
  {
   "cell_type": "markdown",
   "metadata": {},
   "source": [
    "We want to use a fit function with the form:\n",
    "\n",
    "$$ y = x_0 + x_1 t + x_2 t^2$$"
   ]
  },
  {
   "cell_type": "code",
   "execution_count": 12,
   "metadata": {},
   "outputs": [],
   "source": [
    "m = len(t)\n",
    "n = 3 # we want to find three coefficients to fit with a quadratic function\n",
    "\n",
    "A = np.ones((m,n))\n",
    "A[:,1] = t\n",
    "A[:,2] = t**2\n",
    "\n",
    "#Build the arrays needed to solve the normal equations\n",
    "\n",
    "AtA = A.T@A\n",
    "Atb = A.T@y\n",
    "\n",
    "#Solve the linear system of equations:\n",
    "\n",
    "x = la.solve(AtA,Atb)"
   ]
  },
  {
   "cell_type": "code",
   "execution_count": 13,
   "metadata": {},
   "outputs": [
    {
     "data": {
      "text/plain": [
       "array([ 5.00236849, -0.00523266,  0.99049669])"
      ]
     },
     "execution_count": 13,
     "metadata": {},
     "output_type": "execute_result"
    }
   ],
   "source": [
    "x"
   ]
  },
  {
   "cell_type": "code",
   "execution_count": 14,
   "metadata": {
    "scrolled": true
   },
   "outputs": [
    {
     "data": {
      "text/plain": [
       "[<matplotlib.lines.Line2D at 0x20bff504e20>]"
      ]
     },
     "execution_count": 14,
     "metadata": {},
     "output_type": "execute_result"
    },
    {
     "data": {
      "image/png": "[encoded data removed]",
      "text/plain": [
       "<Figure size 432x288 with 1 Axes>"
      ]
     },
     "metadata": {
      "needs_background": "light"
     },
     "output_type": "display_data"
    }
   ],
   "source": [
    "plt.plot(t, y, 'o')\n",
    "plt.plot(t, x[2] * t ** 2 + x[1] * t + x[0])"
   ]
  },
  {
   "cell_type": "markdown",
   "metadata": {},
   "source": [
    "### 3) Fit an exponential curve"
   ]
  },
  {
   "cell_type": "markdown",
   "metadata": {},
   "source": [
    "What if the set of points looks like this?"
   ]
  },
  {
   "cell_type": "code",
   "execution_count": 15,
   "metadata": {},
   "outputs": [
    {
     "data": {
      "text/plain": [
       "[<matplotlib.lines.Line2D at 0x20bff56a6d0>]"
      ]
     },
     "execution_count": 15,
     "metadata": {},
     "output_type": "execute_result"
    },
    {
     "data": {
      "image/png": "[encoded data removed]",
      "text/plain": [
       "<Figure size 432x288 with 1 Axes>"
      ]
     },
     "metadata": {
      "needs_background": "light"
     },
     "output_type": "display_data"
    }
   ],
   "source": [
    "n = 50\n",
    "t = np.linspace(0.1, np.e * 4, n)\n",
    "y = np.exp(t * 0.5) * 3 + np.random.randn(n) * 2\n",
    "\n",
    "plt.plot(t, y, 'o')"
   ]
  },
  {
   "cell_type": "markdown",
   "metadata": {},
   "source": [
    "We want to use a fit function with the form:\n",
    "\n",
    "$$ y = x_0\\,e^{x_1 \\, t} $$\n",
    "\n",
    "Noticed that we can't directly use linear least squares here since the function is not linear with respect to all the coefficients $x_i$.  What if we take the natural log of both sides?\n",
    "\n",
    "$$ \\ln y = \\ln x_0 + x_1 t $$\n",
    "\n",
    "with the change of variables $\\bar y = \\ln y$ and $\\bar x_0 = \\ln x_0$ we can re-write the above equation as:\n",
    "\n",
    "$$ \\bar y  = \\bar x_0 + x_1 t $$"
   ]
  },
  {
   "cell_type": "code",
   "execution_count": 16,
   "metadata": {},
   "outputs": [
    {
     "name": "stderr",
     "output_type": "stream",
     "text": [
      "<ipython-input-16-c36bf2441e2e>:10: RuntimeWarning: invalid value encountered in log\n",
      "  Atb = A.T@np.log(y)\n"
     ]
    }
   ],
   "source": [
    "m = len(t)\n",
    "n = 2 # we want to find three coefficients to fit with a quadratic function\n",
    "\n",
    "A = np.ones((m,n))\n",
    "A[:,1] = t\n",
    "\n",
    "#Build the arrays needed to solve the normal equations\n",
    "\n",
    "AtA = A.T@A\n",
    "Atb = A.T@np.log(y)\n",
    "\n",
    "#Solve the linear system of equations:\n",
    "\n",
    "x = la.solve(AtA,Atb)"
   ]
  },
  {
   "cell_type": "code",
   "execution_count": 17,
   "metadata": {},
   "outputs": [
    {
     "data": {
      "text/plain": [
       "array([nan, nan])"
      ]
     },
     "execution_count": 17,
     "metadata": {},
     "output_type": "execute_result"
    }
   ],
   "source": [
    "x"
   ]
  },
  {
   "cell_type": "code",
   "execution_count": 18,
   "metadata": {},
   "outputs": [
    {
     "data": {
      "image/png": "[encoded data removed]",
      "text/plain": [
       "<Figure size 432x288 with 1 Axes>"
      ]
     },
     "metadata": {
      "needs_background": "light"
     },
     "output_type": "display_data"
    }
   ],
   "source": [
    "x0 = np.exp(x[0])\n",
    "plt.plot(t, y, 'o')\n",
    "plt.plot(t,  x0 * np.exp(x[1]*t))\n",
    "plt.grid()"
   ]
  },
  {
   "cell_type": "markdown",
   "metadata": {},
   "source": [
    "### 4) building stories vs height"
   ]
  },
  {
   "cell_type": "code",
   "execution_count": 19,
   "metadata": {},
   "outputs": [],
   "source": [
    "data = pd.read_csv('bldgstories.txt', delim_whitespace=True)"
   ]
  },
  {
   "cell_type": "code",
   "execution_count": 20,
   "metadata": {},
   "outputs": [],
   "source": [
    "year = data.values[:,0]\n",
    "hght = data.values[:,1]\n",
    "stories= data.values[:,2]"
   ]
  },
  {
   "cell_type": "code",
   "execution_count": 21,
   "metadata": {},
   "outputs": [
    {
     "data": {
      "text/plain": [
       "Text(0, 0.5, 'stories')"
      ]
     },
     "execution_count": 21,
     "metadata": {},
     "output_type": "execute_result"
    },
    {
     "data": {
      "image/png": "[encoded data removed]",
      "text/plain": [
       "<Figure size 432x288 with 1 Axes>"
      ]
     },
     "metadata": {
      "needs_background": "light"
     },
     "output_type": "display_data"
    }
   ],
   "source": [
    "plt.plot(hght, stories, 'o')\n",
    "plt.xlabel('height')\n",
    "plt.ylabel('stories')"
   ]
  },
  {
   "cell_type": "markdown",
   "metadata": {},
   "source": [
    "We want to use a fit function with the form:\n",
    "\n",
    "$$ y = x_0 + x_1 t $$\n",
    "\n",
    "The model matrix is:"
   ]
  },
  {
   "cell_type": "code",
   "execution_count": 22,
   "metadata": {},
   "outputs": [],
   "source": [
    "m = len(hght)\n",
    "n = 2 \n",
    "\n",
    "A = np.ones((m,n))\n",
    "A[:,1] = hght"
   ]
  },
  {
   "cell_type": "markdown",
   "metadata": {},
   "source": [
    "Solving using normal equations:"
   ]
  },
  {
   "cell_type": "code",
   "execution_count": 23,
   "metadata": {},
   "outputs": [
    {
     "name": "stdout",
     "output_type": "stream",
     "text": [
      "[-3.33129846  0.08001458]\n"
     ]
    }
   ],
   "source": [
    "AtA = A.T@A\n",
    "Atb = A.T@stories\n",
    "\n",
    "x = la.solve(AtA,Atb)\n",
    "print(x)"
   ]
  },
  {
   "cell_type": "code",
   "execution_count": 24,
   "metadata": {},
   "outputs": [
    {
     "name": "stdout",
     "output_type": "stream",
     "text": [
      "37.39104302480999\n",
      "1398.0900984831917\n"
     ]
    }
   ],
   "source": [
    "# Get the residual Euclidean norm:\n",
    "print( la.norm(A@x-stories,2) )\n",
    "\n",
    "# Squared of the Euclidean norm of the residual\n",
    "print( la.norm(A@x-stories,2)**2 )"
   ]
  },
  {
   "cell_type": "markdown",
   "metadata": {},
   "source": [
    "Using the least-squares built-in function:"
   ]
  },
  {
   "cell_type": "code",
   "execution_count": 25,
   "metadata": {},
   "outputs": [
    {
     "name": "stdout",
     "output_type": "stream",
     "text": [
      "[-3.33129846  0.08001458]\n",
      "[1398.09009848]\n",
      "2\n",
      "[4.46706748e+03 2.48020755e+00]\n"
     ]
    }
   ],
   "source": [
    "coeff, residual, rank, singvalues = la.lstsq(A,stories,rcond=None)\n",
    "print(coeff)\n",
    "\n",
    "print(residual)\n",
    "\n",
    "print(rank)\n",
    "\n",
    "print(singvalues)"
   ]
  },
  {
   "cell_type": "code",
   "execution_count": 26,
   "metadata": {},
   "outputs": [
    {
     "name": "stdout",
     "output_type": "stream",
     "text": [
      "[4.46706748e+03 2.48020755e+00]\n"
     ]
    }
   ],
   "source": [
    "u,s,vt = la.svd(A)\n",
    "print(s)"
   ]
  },
  {
   "cell_type": "markdown",
   "metadata": {},
   "source": [
    "Or using another built-in function for linear regression:"
   ]
  },
  {
   "cell_type": "code",
   "execution_count": 27,
   "metadata": {},
   "outputs": [
    {
     "name": "stdout",
     "output_type": "stream",
     "text": [
      "0.08001457924032182\n",
      "-3.3312984582958265\n"
     ]
    }
   ],
   "source": [
    "a, b, rvalue, pvalue, stderr = stats.linregress(hght, stories)\n",
    "print(a)\n",
    "print(b)"
   ]
  },
  {
   "cell_type": "code",
   "execution_count": 28,
   "metadata": {},
   "outputs": [
    {
     "name": "stdout",
     "output_type": "stream",
     "text": [
      "0.9505548942627724\n"
     ]
    }
   ],
   "source": [
    "print(rvalue)"
   ]
  },
  {
   "cell_type": "code",
   "execution_count": 29,
   "metadata": {},
   "outputs": [
    {
     "data": {
      "text/plain": [
       "Text(0, 0.5, 'stories')"
      ]
     },
     "execution_count": 29,
     "metadata": {},
     "output_type": "execute_result"
    },
    {
     "data": {
      "image/png": "[encoded data removed]",
      "text/plain": [
       "<Figure size 432x288 with 1 Axes>"
      ]
     },
     "metadata": {
      "needs_background": "light"
     },
     "output_type": "display_data"
    }
   ],
   "source": [
    "plt.plot(hght, x[0] + x[1]*hght , 'r-')\n",
    "plt.plot(hght, stories, 'o')\n",
    "plt.xlabel('height')\n",
    "plt.ylabel('stories')"
   ]
  },
  {
   "cell_type": "markdown",
   "metadata": {},
   "source": [
    "### 5) eye sight distance vs age"
   ]
  },
  {
   "cell_type": "code",
   "execution_count": 30,
   "metadata": {},
   "outputs": [],
   "source": [
    "data = pd.read_csv('signdist.txt', delim_whitespace=True)"
   ]
  },
  {
   "cell_type": "code",
   "execution_count": 31,
   "metadata": {},
   "outputs": [],
   "source": [
    "age = data.values[:,0]\n",
    "distance = data.values[:,1]"
   ]
  },
  {
   "cell_type": "code",
   "execution_count": 32,
   "metadata": {},
   "outputs": [
    {
     "name": "stdout",
     "output_type": "stream",
     "text": [
      "0.8012446509407871\n"
     ]
    },
    {
     "data": {
      "image/png": "[encoded data removed]",
      "text/plain": [
       "<Figure size 432x288 with 1 Axes>"
      ]
     },
     "metadata": {
      "needs_background": "light"
     },
     "output_type": "display_data"
    }
   ],
   "source": [
    "a, b, rvalue, pvalue, stderr = stats.linregress(age, distance)\n",
    "plt.plot(age, a*age + b, 'r-')\n",
    "plt.plot(age, distance, 'o')\n",
    "plt.xlabel('age')\n",
    "plt.ylabel('distance')\n",
    "\n",
    "print(abs(rvalue))"
   ]
  },
  {
   "cell_type": "markdown",
   "metadata": {},
   "source": [
    "### 6) height vs GPA\n",
    "\n",
    "What?!"
   ]
  },
  {
   "cell_type": "code",
   "execution_count": 33,
   "metadata": {},
   "outputs": [],
   "source": [
    "data = pd.read_csv('heightgpa.txt', delim_whitespace=True)"
   ]
  },
  {
   "cell_type": "code",
   "execution_count": 34,
   "metadata": {},
   "outputs": [],
   "source": [
    "height = data.values[:,0]\n",
    "gpa = data.values[:,1]"
   ]
  },
  {
   "cell_type": "code",
   "execution_count": 35,
   "metadata": {},
   "outputs": [
    {
     "name": "stdout",
     "output_type": "stream",
     "text": [
      "0.05324125988691996\n"
     ]
    },
    {
     "data": {
      "image/png": "[encoded data removed]",
      "text/plain": [
       "<Figure size 432x288 with 1 Axes>"
      ]
     },
     "metadata": {
      "needs_background": "light"
     },
     "output_type": "display_data"
    }
   ],
   "source": [
    "a, b, rvalue, pvalue, stderr = stats.linregress(height, gpa)\n",
    "plt.plot(height, a*height + b, 'r-')\n",
    "plt.plot(height, gpa, 'o')\n",
    "plt.xlabel('height')\n",
    "plt.ylabel('gpa')\n",
    "\n",
    "print(abs(rvalue))"
   ]
  },
  {
   "cell_type": "markdown",
   "metadata": {},
   "source": [
    "# B) Modeling ice extent over time"
   ]
  },
  {
   "cell_type": "markdown",
   "metadata": {},
   "source": [
    "![Ice Extent](./additional_files/ice.png)\n",
    "\n",
    "In addition to fitting functions to datapoints, we can use least squares to make predictions on events that may happen in the future.  Here we have a dataset containing the extent of arctic sea ice over the years, which we can fit a least squares model to and predict the extent of arctic ice in future years.\n",
    "\n",
    "This is based on data from:\n",
    "\n",
    "http://ww2.amstat.org/publications/jse/v21n1/witt.pdf\n",
    "\n",
    "http://nsidc.org/research/bios/fetterer.html\n",
    "\n",
    "ftp://sidads.colorado.edu/DATASETS/NOAA/G02135/north/monthly/data/N_08_extent_v3.0.csv"
   ]
  },
  {
   "cell_type": "code",
   "execution_count": 36,
   "metadata": {},
   "outputs": [],
   "source": [
    "data = pd.read_csv('N_09_extent_v3.0.csv', dtype={'year': np.int32, 'extent': np.double})"
   ]
  },
  {
   "cell_type": "code",
   "execution_count": 37,
   "metadata": {},
   "outputs": [
    {
     "data": {
      "text/html": [
       "<div>\n",
       "<style scoped>\n",
       "    .dataframe tbody tr th:only-of-type {\n",
       "        vertical-align: middle;\n",
       "    }\n",
       "\n",
       "    .dataframe tbody tr th {\n",
       "        vertical-align: top;\n",
       "    }\n",
       "\n",
       "    .dataframe thead th {\n",
       "        text-align: right;\n",
       "    }\n",
       "</style>\n",
       "<table border=\"1\" class=\"dataframe\">\n",
       "  <thead>\n",
       "    <tr style=\"text-align: right;\">\n",
       "      <th></th>\n",
       "      <th>year</th>\n",
       "      <th>mo</th>\n",
       "      <th>data-type</th>\n",
       "      <th>region</th>\n",
       "      <th>extent</th>\n",
       "      <th>area</th>\n",
       "    </tr>\n",
       "  </thead>\n",
       "  <tbody>\n",
       "    <tr>\n",
       "      <th>0</th>\n",
       "      <td>1979</td>\n",
       "      <td>9</td>\n",
       "      <td>Goddard</td>\n",
       "      <td>N</td>\n",
       "      <td>7.05</td>\n",
       "      <td>4.58</td>\n",
       "    </tr>\n",
       "    <tr>\n",
       "      <th>1</th>\n",
       "      <td>1980</td>\n",
       "      <td>9</td>\n",
       "      <td>Goddard</td>\n",
       "      <td>N</td>\n",
       "      <td>7.67</td>\n",
       "      <td>4.87</td>\n",
       "    </tr>\n",
       "    <tr>\n",
       "      <th>2</th>\n",
       "      <td>1981</td>\n",
       "      <td>9</td>\n",
       "      <td>Goddard</td>\n",
       "      <td>N</td>\n",
       "      <td>7.14</td>\n",
       "      <td>4.44</td>\n",
       "    </tr>\n",
       "    <tr>\n",
       "      <th>3</th>\n",
       "      <td>1982</td>\n",
       "      <td>9</td>\n",
       "      <td>Goddard</td>\n",
       "      <td>N</td>\n",
       "      <td>7.30</td>\n",
       "      <td>4.43</td>\n",
       "    </tr>\n",
       "    <tr>\n",
       "      <th>4</th>\n",
       "      <td>1983</td>\n",
       "      <td>9</td>\n",
       "      <td>Goddard</td>\n",
       "      <td>N</td>\n",
       "      <td>7.39</td>\n",
       "      <td>4.70</td>\n",
       "    </tr>\n",
       "  </tbody>\n",
       "</table>\n",
       "</div>"
      ],
      "text/plain": [
       "   year   mo      data-type   region   extent     area\n",
       "0  1979    9        Goddard        N     7.05     4.58\n",
       "1  1980    9        Goddard        N     7.67     4.87\n",
       "2  1981    9        Goddard        N     7.14     4.44\n",
       "3  1982    9        Goddard        N     7.30     4.43\n",
       "4  1983    9        Goddard        N     7.39     4.70"
      ]
     },
     "execution_count": 37,
     "metadata": {},
     "output_type": "execute_result"
    }
   ],
   "source": [
    "data.head()"
   ]
  },
  {
   "cell_type": "code",
   "execution_count": 38,
   "metadata": {},
   "outputs": [
    {
     "name": "stdout",
     "output_type": "stream",
     "text": [
      "(39, 6)\n"
     ]
    }
   ],
   "source": [
    "print(data.shape)"
   ]
  },
  {
   "cell_type": "code",
   "execution_count": 39,
   "metadata": {},
   "outputs": [],
   "source": [
    "year = data['year']\n",
    "extent = data[' extent']"
   ]
  },
  {
   "cell_type": "code",
   "execution_count": 40,
   "metadata": {},
   "outputs": [
    {
     "data": {
      "text/plain": [
       "[<matplotlib.lines.Line2D at 0x20bffc1f2b0>]"
      ]
     },
     "execution_count": 40,
     "metadata": {},
     "output_type": "execute_result"
    },
    {
     "data": {
      "image/png": "[encoded data removed]",
      "text/plain": [
       "<Figure size 432x288 with 1 Axes>"
      ]
     },
     "metadata": {
      "needs_background": "light"
     },
     "output_type": "display_data"
    }
   ],
   "source": [
    "plt.figure(figsize=(6,4))\n",
    "plt.plot(year, extent, 'o')"
   ]
  },
  {
   "cell_type": "markdown",
   "metadata": {},
   "source": [
    "### Fitting with a line"
   ]
  },
  {
   "cell_type": "code",
   "execution_count": 41,
   "metadata": {},
   "outputs": [
    {
     "name": "stdout",
     "output_type": "stream",
     "text": [
      "number of data points =  39\n"
     ]
    }
   ],
   "source": [
    "npoints = data.shape[0]\n",
    "print('number of data points = ', npoints)"
   ]
  },
  {
   "cell_type": "code",
   "execution_count": 42,
   "metadata": {},
   "outputs": [],
   "source": [
    "def fitfunction(t,coeffs):\n",
    "    fit = 0\n",
    "    for i,c in enumerate(coeffs):\n",
    "        fit += c*t**i\n",
    "    return  fit"
   ]
  },
  {
   "cell_type": "code",
   "execution_count": 43,
   "metadata": {},
   "outputs": [],
   "source": [
    "ndata = 20 #use the first ndata points for the fit\n",
    "year1 = year[:ndata]\n",
    "extent1 = extent[:ndata]\n",
    "\n",
    "A = np.array([\n",
    "    1+0*year1,\n",
    "    year1\n",
    "    ]).T\n",
    "\n",
    "b = np.array(extent1)\n",
    "\n",
    "x = la.solve(A.T@A,A.T@b)"
   ]
  },
  {
   "cell_type": "code",
   "execution_count": 44,
   "metadata": {},
   "outputs": [
    {
     "data": {
      "text/plain": [
       "[<matplotlib.lines.Line2D at 0x20bffcc9100>]"
      ]
     },
     "execution_count": 44,
     "metadata": {},
     "output_type": "execute_result"
    },
    {
     "data": {
      "image/png": "[encoded data removed]",
      "text/plain": [
       "<Figure size 432x288 with 1 Axes>"
      ]
     },
     "metadata": {
      "needs_background": "light"
     },
     "output_type": "display_data"
    }
   ],
   "source": [
    "plt.plot(year1, fitfunction(year1,x))\n",
    "plt.plot(year, extent, 'o')"
   ]
  },
  {
   "cell_type": "markdown",
   "metadata": {},
   "source": [
    "### How did the linear fit \"fit\" as time time progresses?"
   ]
  },
  {
   "cell_type": "code",
   "execution_count": 45,
   "metadata": {},
   "outputs": [
    {
     "data": {
      "text/plain": [
       "<matplotlib.legend.Legend at 0x20bffb90880>"
      ]
     },
     "execution_count": 45,
     "metadata": {},
     "output_type": "execute_result"
    },
    {
     "data": {
      "image/png": "[encoded data removed]",
      "text/plain": [
       "<Figure size 720x576 with 1 Axes>"
      ]
     },
     "metadata": {
      "needs_background": "light"
     },
     "output_type": "display_data"
    }
   ],
   "source": [
    "plt.figure(figsize=(10,8))\n",
    "plt.plot(year, extent, 'o')\n",
    "\n",
    "for ndata in range(22, npoints):\n",
    "    \n",
    "    year1 = year[:ndata]\n",
    "    extent1 = extent[:ndata]\n",
    "\n",
    "    A = np.array([\n",
    "        1+0*year1,\n",
    "        year1\n",
    "        ]).T\n",
    "\n",
    "    b = np.array(extent1)\n",
    "\n",
    "    x = la.solve(A.T@A,A.T@b)\n",
    "    \n",
    "    plt.plot(year1, fitfunction(year1,x),  label='%d' % (year[0]+ndata))\n",
    "    \n",
    "plt.legend()"
   ]
  },
  {
   "cell_type": "markdown",
   "metadata": {},
   "source": [
    "### Let's try a quadratic fit"
   ]
  },
  {
   "cell_type": "code",
   "execution_count": 46,
   "metadata": {},
   "outputs": [
    {
     "name": "stdout",
     "output_type": "stream",
     "text": [
      "[6.79221628e+00 7.00452986e-07 3.50158197e-10]\n"
     ]
    }
   ],
   "source": [
    "ndata = 26 #use the first ndata points for the fit\n",
    "year1 = year[:ndata]\n",
    "extent1 = extent[:ndata]\n",
    "\n",
    "A = np.array([\n",
    "    1+0*year1,\n",
    "    year1,\n",
    "    year1**2\n",
    "    ]).T\n",
    "\n",
    "b = np.array(extent1)\n",
    "\n",
    "x = la.solve(A.T@A,A.T@b)\n",
    "\n",
    "print(x)"
   ]
  },
  {
   "cell_type": "code",
   "execution_count": 47,
   "metadata": {},
   "outputs": [
    {
     "data": {
      "text/plain": [
       "[<matplotlib.lines.Line2D at 0x20bff540e80>]"
      ]
     },
     "execution_count": 47,
     "metadata": {},
     "output_type": "execute_result"
    },
    {
     "data": {
      "image/png": "[encoded data removed]",
      "text/plain": [
       "<Figure size 432x288 with 1 Axes>"
      ]
     },
     "metadata": {
      "needs_background": "light"
     },
     "output_type": "display_data"
    }
   ],
   "source": [
    "plt.plot(year, fitfunction(year,x))\n",
    "plt.plot(year, extent, 'o')"
   ]
  },
  {
   "cell_type": "markdown",
   "metadata": {},
   "source": [
    "### What went wrong?\n",
    "\n",
    "Let's try to use the least square function from scipy"
   ]
  },
  {
   "cell_type": "code",
   "execution_count": 48,
   "metadata": {},
   "outputs": [
    {
     "name": "stdout",
     "output_type": "stream",
     "text": [
      "[-5.78703451e+03  5.86799957e+00 -1.48565324e-03]\n"
     ]
    },
    {
     "data": {
      "image/png": "[encoded data removed]",
      "text/plain": [
       "<Figure size 432x288 with 1 Axes>"
      ]
     },
     "metadata": {
      "needs_background": "light"
     },
     "output_type": "display_data"
    }
   ],
   "source": [
    "coeffs,residual,rank,sval=np.linalg.lstsq(A,b,rcond=None)\n",
    "\n",
    "plt.plot(year, fitfunction(year,coeffs))\n",
    "plt.plot(year, extent, 'o')\n",
    "\n",
    "print(coeffs)\n"
   ]
  },
  {
   "cell_type": "markdown",
   "metadata": {},
   "source": [
    "Seems to work with `lstsq`... what could be the issue with the Normal Equations method above?\n",
    "\n",
    "Let's check the condition number of the matrix A"
   ]
  },
  {
   "cell_type": "code",
   "execution_count": 49,
   "metadata": {},
   "outputs": [
    {
     "name": "stdout",
     "output_type": "stream",
     "text": [
      "313354558941.1675\n",
      "[6.79221628e+00 7.00452986e-07 3.50158197e-10]\n",
      "2.7991699750018357\n"
     ]
    }
   ],
   "source": [
    "print(la.cond(A))\n",
    "print(x)\n",
    "print(la.norm(A@x-b))"
   ]
  },
  {
   "cell_type": "markdown",
   "metadata": {},
   "source": [
    "The matrix A becomes closer to singular as the number of columns increases (i.e., as the number of coefficients for the fit increase). We can scale the years, to mitigate this situation:"
   ]
  },
  {
   "cell_type": "code",
   "execution_count": 50,
   "metadata": {},
   "outputs": [
    {
     "name": "stdout",
     "output_type": "stream",
     "text": [
      "1593.2774157903386\n",
      "[ 7.32702301e+00 -2.55283521e-02 -1.60576890e-03]\n"
     ]
    }
   ],
   "source": [
    "year2 = year - 1980\n",
    "extent2 = extent\n",
    "\n",
    "A = np.array([\n",
    "    1+0*year2,\n",
    "    year2,\n",
    "    year2**2\n",
    "    ]).T\n",
    "\n",
    "b = np.array(extent2)\n",
    "\n",
    "x = la.solve(A.T@A,A.T@b)\n",
    "\n",
    "\n",
    "print(la.cond(A))\n",
    "print(x)\n"
   ]
  },
  {
   "cell_type": "code",
   "execution_count": 51,
   "metadata": {},
   "outputs": [
    {
     "data": {
      "text/plain": [
       "[<matplotlib.lines.Line2D at 0x20bffcfae20>]"
      ]
     },
     "execution_count": 51,
     "metadata": {},
     "output_type": "execute_result"
    },
    {
     "data": {
      "image/png": "[encoded data removed]",
      "text/plain": [
       "<Figure size 432x288 with 1 Axes>"
      ]
     },
     "metadata": {
      "needs_background": "light"
     },
     "output_type": "display_data"
    }
   ],
   "source": [
    "plt.plot(year2, fitfunction(year2,x))\n",
    "plt.plot(year2, extent, 'o')"
   ]
  },
  {
   "cell_type": "markdown",
   "metadata": {},
   "source": [
    "# C) Linear Least Squares using SVD"
   ]
  },
  {
   "cell_type": "markdown",
   "metadata": {},
   "source": [
    "The function below creates a random matrix and a random right-hand side vector, to use as input data for least squares. The arguments of the function are the shape of A, and the rank of A. You should run examples to investigate the following situations:\n",
    "\n",
    "1) rankA = N (this is a full rank matrix, and hence solution is unique\n",
    "\n",
    "2) rankA = N - 1 (this is a rank deficient matrix, and the solution is no longer unique"
   ]
  },
  {
   "cell_type": "code",
   "execution_count": 52,
   "metadata": {},
   "outputs": [],
   "source": [
    "def creates_A_b(shap = (10,4), rankA=4):\n",
    "    M,N = shap\n",
    "    # Generating the orthogonal matrix U\n",
    "    X = np.random.rand(M,M)\n",
    "    U,R = sla.qr(X)\n",
    "    # Generating the orthogonal matrix V\n",
    "    Y = np.random.rand(N,N)\n",
    "    V,R = sla.qr(Y)\n",
    "    Vt = V.T\n",
    "    # Generating the diagonal matrix Sigma\n",
    "    singval = random.sample(range(1, 9), rankA)\n",
    "    singval.sort()\n",
    "    sigmavec = singval[::-1]\n",
    "    sigma = np.zeros((M,N))\n",
    "    for i,sing in enumerate(sigmavec):\n",
    "        sigma[i,i] = sing\n",
    "    A = U@sigma@Vt\n",
    "    b = np.random.rand(M)\n",
    "    return(A,b)"
   ]
  },
  {
   "cell_type": "code",
   "execution_count": 53,
   "metadata": {},
   "outputs": [],
   "source": [
    "# Matrix shape\n",
    "M = 10\n",
    "N = 4\n",
    "r = 2\n",
    "A,b = creates_A_b((M,N),r)"
   ]
  },
  {
   "cell_type": "code",
   "execution_count": 54,
   "metadata": {},
   "outputs": [
    {
     "name": "stdout",
     "output_type": "stream",
     "text": [
      "2.6062634473898867e+17\n"
     ]
    }
   ],
   "source": [
    "print(la.cond(A))"
   ]
  },
  {
   "cell_type": "markdown",
   "metadata": {},
   "source": [
    "### 1) Using normal equations (unique solution, full rank)"
   ]
  },
  {
   "cell_type": "code",
   "execution_count": 55,
   "metadata": {},
   "outputs": [
    {
     "name": "stdout",
     "output_type": "stream",
     "text": [
      "[ 0.06879246  0.16915319  4.13508947 -0.23954067]\n"
     ]
    }
   ],
   "source": [
    "xu = la.solve(A.T@A,A.T@b)\n",
    "print(xu)"
   ]
  },
  {
   "cell_type": "code",
   "execution_count": 56,
   "metadata": {},
   "outputs": [
    {
     "data": {
      "text/plain": [
       "1.034734569970669"
      ]
     },
     "execution_count": 56,
     "metadata": {},
     "output_type": "execute_result"
    }
   ],
   "source": [
    "la.norm(A@xu-b,2)"
   ]
  },
  {
   "cell_type": "code",
   "execution_count": 57,
   "metadata": {},
   "outputs": [
    {
     "data": {
      "text/plain": [
       "4.146045089076434"
      ]
     },
     "execution_count": 57,
     "metadata": {},
     "output_type": "execute_result"
    }
   ],
   "source": [
    "la.norm(xu,2)"
   ]
  },
  {
   "cell_type": "markdown",
   "metadata": {},
   "source": [
    "### 2) Using SVD"
   ]
  },
  {
   "cell_type": "code",
   "execution_count": 58,
   "metadata": {},
   "outputs": [],
   "source": [
    "UR,SR,VRt = la.svd(A,full_matrices=False)\n",
    "print(SR)"
   ]
  },
  {
   "cell_type": "code",
   "execution_count": 59,
   "metadata": {},
   "outputs": [],
   "source": [
    "# ub = (UR.T@b)\n",
    "# x = np.zeros(N)\n",
    "# for i,s in enumerate(SR):\n",
    "#     if s > 1e-15:\n",
    "#         x += VRt[i,:]*ub[i]/s\n",
    "# print(x)"
   ]
  },
  {
   "cell_type": "code",
   "execution_count": 60,
   "metadata": {},
   "outputs": [],
   "source": [
    "Sinv = np.zeros((N,N))\n",
    "for i,si in enumerate(SR):\n",
    "    if si > 1e-12:\n",
    "        Sinv[i,i] = 1/si\n",
    "\n",
    "x = VRt.T@Sinv@UR.T@b\n",
    "print(x)"
   ]
  },
  {
   "cell_type": "code",
   "execution_count": 61,
   "metadata": {},
   "outputs": [],
   "source": [
    "la.norm(A@x-b,2)"
   ]
  },
  {
   "cell_type": "code",
   "execution_count": 62,
   "metadata": {},
   "outputs": [],
   "source": [
    "la.norm(x,2)"
   ]
  },
  {
   "cell_type": "code",
   "execution_count": 63,
   "metadata": {},
   "outputs": [],
   "source": [
    "## Side note (if we want to predict the residual based on the full SVD)\n",
    "U,S,Vt = la.svd(A)\n",
    "Sfullinv = np.zeros((N,M))\n",
    "for i,si in enumerate(S):\n",
    "    if si > 1e-12:\n",
    "        Sfullinv[i,i] = 1/si\n",
    "\n",
    "x = Vt.T@Sfullinv@U.T@b\n",
    "print(x)\n",
    "\n",
    "la.norm((U.T@b)[r:],2)"
   ]
  },
  {
   "cell_type": "markdown",
   "metadata": {},
   "source": [
    "### 3) Using numpy.linalg Least Squares method"
   ]
  },
  {
   "cell_type": "code",
   "execution_count": 64,
   "metadata": {},
   "outputs": [],
   "source": [
    "coeffs,residual,rank,sval=np.linalg.lstsq(A,b,rcond=None)\n",
    "print(coeffs)"
   ]
  },
  {
   "cell_type": "code",
   "execution_count": 65,
   "metadata": {},
   "outputs": [],
   "source": [
    "la.norm(A@coeffs-b,2)"
   ]
  },
  {
   "cell_type": "code",
   "execution_count": 66,
   "metadata": {},
   "outputs": [],
   "source": [
    "la.norm(coeffs,2)"
   ]
  },
  {
   "cell_type": "code",
   "execution_count": 67,
   "metadata": {},
   "outputs": [],
   "source": [
    "rank"
   ]
  },
  {
   "cell_type": "code",
   "execution_count": null,
   "metadata": {},
   "outputs": [],
   "source": []
  }
 ],
 "metadata": {
  "kernelspec": {
   "display_name": "Python 3",
   "language": "python",
   "name": "python3"
  },
  "language_info": {
   "codemirror_mode": {
    "name": "ipython",
    "version": 3
   },
   "file_extension": ".py",
   "mimetype": "text/x-python",
   "name": "python",
   "nbconvert_exporter": "python",
   "pygments_lexer": "ipython3",
   "version": "3.8.8"
  },
  "widgets": {
   "state": {},
   "version": "1.1.2"
  }
 },
 "nbformat": 4,
 "nbformat_minor": 1
}
